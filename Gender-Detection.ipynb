{
 "cells": [
  {
   "cell_type": "markdown",
   "metadata": {},
   "source": [
    "# Assignment 1 - Gender Detection"
   ]
  },
  {
   "cell_type": "markdown",
   "metadata": {},
   "source": [
    "Task: Predict the gender of Hollywood movie character based in the dialogues in the movie. We are using https://www.kaggle.com/Cornell-University/movie-dialog-corpus dataset.  "
   ]
  },
  {
   "cell_type": "markdown",
   "metadata": {},
   "source": [
    "Just imagine that you look at an animal which can be either horse or donkey, How do you differentiate between them. Our mind is trained from years of visual training to differentiate between them based on color and body type. Now imagine you read a sentence and need to identify if the speaker is male or female. How do you recognise? we humans have been listensing to millions of sentence hence can identify immediadtely with a blink of an Eye. But what we are trying to do  here is to make a computer/Machine to identify if the speaker is male or female by just a dialogue. How do we do it ?? Simple we use the advance topic such as machine learning to do so.\n",
    "\n"
   ]
  },
  {
   "cell_type": "markdown",
   "metadata": {},
   "source": [
    "Lets dive deep into the topic and under stand what is Machine learning and classification means."
   ]
  },
  {
   "cell_type": "markdown",
   "metadata": {},
   "source": [
    "Before starting we need few basic understanding about the problem we are trying to solve and approach we are going to use"
   ]
  },
  {
   "cell_type": "markdown",
   "metadata": {},
   "source": [
    "Since we are trying to identify whether the speaker is male or female, This kind of problem is called classification\n"
   ]
  },
  {
   "cell_type": "markdown",
   "metadata": {},
   "source": [
    "Since we need to identify Male or female, we have only two target variable or label hence this kind of situation where we\n",
    "need to find between label we call them Binary classification. Binary meaning two."
   ]
  },
  {
   "cell_type": "markdown",
   "metadata": {},
   "source": [
    "In order to solve problem we can use our experience similarly in python there are tons of libraries which would have stored\n",
    "expirence which we can directly use in our program"
   ]
  },
  {
   "cell_type": "markdown",
   "metadata": {},
   "source": [
    "Libraries are set of predefined modules which makes our life easy"
   ]
  },
  {
   "cell_type": "markdown",
   "metadata": {},
   "source": [
    "There are various packages which we can use. Few of them we need to install using pip command "
   ]
  },
  {
   "cell_type": "markdown",
   "metadata": {},
   "source": [
    "there are multiple different IDE(interactive Development Environment) we can use so that we can rum the program"
   ]
  },
  {
   "cell_type": "markdown",
   "metadata": {},
   "source": [
    "Here we are using Jupyter Notebook similar do your notebook where we can run the code and see the output immediately"
   ]
  },
  {
   "cell_type": "markdown",
   "metadata": {},
   "source": [
    "First step in ML projects is to call **Libraries** (i.e. calling the predefined modules which contains functions for use by other programs) that are required for processing the given dataset."
   ]
  },
  {
   "cell_type": "code",
   "execution_count": 1,
   "metadata": {},
   "outputs": [],
   "source": [
    "# Basic Libraries:\n",
    "import numpy as np # Its used for mathematical operations\n",
    "import pandas as pd # Its used for data manipulation and analysis. \n",
    "import matplotlib.pyplot as plt # Its used for creating static, animated, and interactive visualizations in Python\n",
    "import warnings"
   ]
  },
  {
   "cell_type": "markdown",
   "metadata": {},
   "source": [
    "The above cell we are import or calling various libraries which we would understand how it will make our life easy"
   ]
  },
  {
   "cell_type": "markdown",
   "metadata": {},
   "source": [
    "Once the Libraries are loaded we need to read the dataset"
   ]
  },
  {
   "cell_type": "markdown",
   "metadata": {},
   "source": [
    "the dataset provided has following tables/files"
   ]
  },
  {
   "cell_type": "markdown",
   "metadata": {},
   "source": [
    "\n",
    "- movie_titles_metadata\n",
    "- movie_characters_metadata\n",
    "- movie_lines\n",
    "- movie_conversations"
   ]
  },
  {
   "cell_type": "markdown",
   "metadata": {},
   "source": [
    "we make use of Pandas libraries for that, Basically it will allow us to see tabular data"
   ]
  },
  {
   "cell_type": "code",
   "execution_count": 2,
   "metadata": {},
   "outputs": [],
   "source": [
    "# reading the dataset \n",
    "title=pd.read_csv(\"movie_titles_metadata.tsv\")\n"
   ]
  },
  {
   "cell_type": "markdown",
   "metadata": {},
   "source": [
    "In the Code cell above use are telling pandas to read a csv. for that we need to specify the file name "
   ]
  },
  {
   "cell_type": "markdown",
   "metadata": {},
   "source": [
    "once the dataset is read we need to see if the data is read properly so we need to use the head() function to see the top 5 rows"
   ]
  },
  {
   "cell_type": "code",
   "execution_count": 3,
   "metadata": {},
   "outputs": [
    {
     "data": {
      "text/html": [
       "<div>\n",
       "<style scoped>\n",
       "    .dataframe tbody tr th:only-of-type {\n",
       "        vertical-align: middle;\n",
       "    }\n",
       "\n",
       "    .dataframe tbody tr th {\n",
       "        vertical-align: top;\n",
       "    }\n",
       "\n",
       "    .dataframe thead th {\n",
       "        text-align: right;\n",
       "    }\n",
       "</style>\n",
       "<table border=\"1\" class=\"dataframe\">\n",
       "  <thead>\n",
       "    <tr style=\"text-align: right;\">\n",
       "      <th></th>\n",
       "      <th>m0\t10 things i hate about you\t1999\t6.90\t62847\t['comedy' 'romance']</th>\n",
       "    </tr>\n",
       "  </thead>\n",
       "  <tbody>\n",
       "    <tr>\n",
       "      <th>0</th>\n",
       "      <td>m1\\t1492: conquest of paradise\\t1992\\t6.20\\t10...</td>\n",
       "    </tr>\n",
       "    <tr>\n",
       "      <th>1</th>\n",
       "      <td>m2\\t15 minutes\\t2001\\t6.10\\t25854\\t['action' '...</td>\n",
       "    </tr>\n",
       "    <tr>\n",
       "      <th>2</th>\n",
       "      <td>m3\\t2001: a space odyssey\\t1968\\t8.40\\t163227\\...</td>\n",
       "    </tr>\n",
       "    <tr>\n",
       "      <th>3</th>\n",
       "      <td>m4\\t48 hrs.\\t1982\\t6.90\\t22289\\t['action' 'com...</td>\n",
       "    </tr>\n",
       "    <tr>\n",
       "      <th>4</th>\n",
       "      <td>m5\\tthe fifth element\\t1997\\t7.50\\t133756\\t['a...</td>\n",
       "    </tr>\n",
       "  </tbody>\n",
       "</table>\n",
       "</div>"
      ],
      "text/plain": [
       "  m0\\t10 things i hate about you\\t1999\\t6.90\\t62847\\t['comedy' 'romance']\n",
       "0  m1\\t1492: conquest of paradise\\t1992\\t6.20\\t10...                     \n",
       "1  m2\\t15 minutes\\t2001\\t6.10\\t25854\\t['action' '...                     \n",
       "2  m3\\t2001: a space odyssey\\t1968\\t8.40\\t163227\\...                     \n",
       "3  m4\\t48 hrs.\\t1982\\t6.90\\t22289\\t['action' 'com...                     \n",
       "4  m5\\tthe fifth element\\t1997\\t7.50\\t133756\\t['a...                     "
      ]
     },
     "execution_count": 3,
     "metadata": {},
     "output_type": "execute_result"
    }
   ],
   "source": [
    "title.head()"
   ]
  },
  {
   "cell_type": "markdown",
   "metadata": {},
   "source": [
    "From the above table you will get confused since the data is not properly ordered"
   ]
  },
  {
   "cell_type": "markdown",
   "metadata": {},
   "source": [
    "what may be the reason?????"
   ]
  },
  {
   "cell_type": "markdown",
   "metadata": {},
   "source": [
    "The format of data is tsv which means the data is tab separated hence we need to spilt the data accordingly"
   ]
  },
  {
   "cell_type": "markdown",
   "metadata": {},
   "source": [
    "syntax of pandas for separating by tab\n",
    "\n",
    "filename=pd.read_csv(\"Enter the audio path\",warn_bad_lines =False,error_bad_lines=False,,sep='\\t',header=None)"
   ]
  },
  {
   "cell_type": "code",
   "execution_count": 4,
   "metadata": {},
   "outputs": [
    {
     "data": {
      "text/html": [
       "<div>\n",
       "<style scoped>\n",
       "    .dataframe tbody tr th:only-of-type {\n",
       "        vertical-align: middle;\n",
       "    }\n",
       "\n",
       "    .dataframe tbody tr th {\n",
       "        vertical-align: top;\n",
       "    }\n",
       "\n",
       "    .dataframe thead th {\n",
       "        text-align: right;\n",
       "    }\n",
       "</style>\n",
       "<table border=\"1\" class=\"dataframe\">\n",
       "  <thead>\n",
       "    <tr style=\"text-align: right;\">\n",
       "      <th></th>\n",
       "      <th>0</th>\n",
       "      <th>1</th>\n",
       "      <th>2</th>\n",
       "      <th>3</th>\n",
       "      <th>4</th>\n",
       "      <th>5</th>\n",
       "    </tr>\n",
       "  </thead>\n",
       "  <tbody>\n",
       "    <tr>\n",
       "      <th>0</th>\n",
       "      <td>m0</td>\n",
       "      <td>10 things i hate about you</td>\n",
       "      <td>1999</td>\n",
       "      <td>6.9</td>\n",
       "      <td>62847.0</td>\n",
       "      <td>['comedy' 'romance']</td>\n",
       "    </tr>\n",
       "    <tr>\n",
       "      <th>1</th>\n",
       "      <td>m1</td>\n",
       "      <td>1492: conquest of paradise</td>\n",
       "      <td>1992</td>\n",
       "      <td>6.2</td>\n",
       "      <td>10421.0</td>\n",
       "      <td>['adventure' 'biography' 'drama' 'history']</td>\n",
       "    </tr>\n",
       "    <tr>\n",
       "      <th>2</th>\n",
       "      <td>m2</td>\n",
       "      <td>15 minutes</td>\n",
       "      <td>2001</td>\n",
       "      <td>6.1</td>\n",
       "      <td>25854.0</td>\n",
       "      <td>['action' 'crime' 'drama' 'thriller']</td>\n",
       "    </tr>\n",
       "    <tr>\n",
       "      <th>3</th>\n",
       "      <td>m3</td>\n",
       "      <td>2001: a space odyssey</td>\n",
       "      <td>1968</td>\n",
       "      <td>8.4</td>\n",
       "      <td>163227.0</td>\n",
       "      <td>['adventure' 'mystery' 'sci-fi']</td>\n",
       "    </tr>\n",
       "    <tr>\n",
       "      <th>4</th>\n",
       "      <td>m4</td>\n",
       "      <td>48 hrs.</td>\n",
       "      <td>1982</td>\n",
       "      <td>6.9</td>\n",
       "      <td>22289.0</td>\n",
       "      <td>['action' 'comedy' 'crime' 'drama' 'thriller']</td>\n",
       "    </tr>\n",
       "  </tbody>\n",
       "</table>\n",
       "</div>"
      ],
      "text/plain": [
       "    0                           1     2    3         4  \\\n",
       "0  m0  10 things i hate about you  1999  6.9   62847.0   \n",
       "1  m1  1492: conquest of paradise  1992  6.2   10421.0   \n",
       "2  m2                  15 minutes  2001  6.1   25854.0   \n",
       "3  m3       2001: a space odyssey  1968  8.4  163227.0   \n",
       "4  m4                     48 hrs.  1982  6.9   22289.0   \n",
       "\n",
       "                                                5  \n",
       "0                            ['comedy' 'romance']  \n",
       "1     ['adventure' 'biography' 'drama' 'history']  \n",
       "2           ['action' 'crime' 'drama' 'thriller']  \n",
       "3                ['adventure' 'mystery' 'sci-fi']  \n",
       "4  ['action' 'comedy' 'crime' 'drama' 'thriller']  "
      ]
     },
     "execution_count": 4,
     "metadata": {},
     "output_type": "execute_result"
    }
   ],
   "source": [
    "# 1. separating the dataset using the parameters sep='\\t'which is tab space\n",
    "# and header=None to avoid the data getting printed in heading of columns \n",
    "title=pd.read_csv(\"movie_titles_metadata.tsv\",sep='\\t',header=None)\n",
    "title.head()"
   ]
  },
  {
   "cell_type": "markdown",
   "metadata": {},
   "source": [
    "Now you can read the data but the header is missing so we need to add them "
   ]
  },
  {
   "cell_type": "code",
   "execution_count": 5,
   "metadata": {},
   "outputs": [
    {
     "data": {
      "text/html": [
       "<div>\n",
       "<style scoped>\n",
       "    .dataframe tbody tr th:only-of-type {\n",
       "        vertical-align: middle;\n",
       "    }\n",
       "\n",
       "    .dataframe tbody tr th {\n",
       "        vertical-align: top;\n",
       "    }\n",
       "\n",
       "    .dataframe thead th {\n",
       "        text-align: right;\n",
       "    }\n",
       "</style>\n",
       "<table border=\"1\" class=\"dataframe\">\n",
       "  <thead>\n",
       "    <tr style=\"text-align: right;\">\n",
       "      <th></th>\n",
       "      <th>movieID</th>\n",
       "      <th>movie_title</th>\n",
       "      <th>year</th>\n",
       "      <th>IMDB rating</th>\n",
       "      <th>No. IMDB votes</th>\n",
       "      <th>genres</th>\n",
       "    </tr>\n",
       "  </thead>\n",
       "  <tbody>\n",
       "    <tr>\n",
       "      <th>0</th>\n",
       "      <td>m0</td>\n",
       "      <td>10 things i hate about you</td>\n",
       "      <td>1999</td>\n",
       "      <td>6.9</td>\n",
       "      <td>62847.0</td>\n",
       "      <td>['comedy' 'romance']</td>\n",
       "    </tr>\n",
       "    <tr>\n",
       "      <th>1</th>\n",
       "      <td>m1</td>\n",
       "      <td>1492: conquest of paradise</td>\n",
       "      <td>1992</td>\n",
       "      <td>6.2</td>\n",
       "      <td>10421.0</td>\n",
       "      <td>['adventure' 'biography' 'drama' 'history']</td>\n",
       "    </tr>\n",
       "    <tr>\n",
       "      <th>2</th>\n",
       "      <td>m2</td>\n",
       "      <td>15 minutes</td>\n",
       "      <td>2001</td>\n",
       "      <td>6.1</td>\n",
       "      <td>25854.0</td>\n",
       "      <td>['action' 'crime' 'drama' 'thriller']</td>\n",
       "    </tr>\n",
       "    <tr>\n",
       "      <th>3</th>\n",
       "      <td>m3</td>\n",
       "      <td>2001: a space odyssey</td>\n",
       "      <td>1968</td>\n",
       "      <td>8.4</td>\n",
       "      <td>163227.0</td>\n",
       "      <td>['adventure' 'mystery' 'sci-fi']</td>\n",
       "    </tr>\n",
       "    <tr>\n",
       "      <th>4</th>\n",
       "      <td>m4</td>\n",
       "      <td>48 hrs.</td>\n",
       "      <td>1982</td>\n",
       "      <td>6.9</td>\n",
       "      <td>22289.0</td>\n",
       "      <td>['action' 'comedy' 'crime' 'drama' 'thriller']</td>\n",
       "    </tr>\n",
       "  </tbody>\n",
       "</table>\n",
       "</div>"
      ],
      "text/plain": [
       "  movieID                 movie_title  year  IMDB rating  No. IMDB votes  \\\n",
       "0      m0  10 things i hate about you  1999          6.9         62847.0   \n",
       "1      m1  1492: conquest of paradise  1992          6.2         10421.0   \n",
       "2      m2                  15 minutes  2001          6.1         25854.0   \n",
       "3      m3       2001: a space odyssey  1968          8.4        163227.0   \n",
       "4      m4                     48 hrs.  1982          6.9         22289.0   \n",
       "\n",
       "                                           genres  \n",
       "0                            ['comedy' 'romance']  \n",
       "1     ['adventure' 'biography' 'drama' 'history']  \n",
       "2           ['action' 'crime' 'drama' 'thriller']  \n",
       "3                ['adventure' 'mystery' 'sci-fi']  \n",
       "4  ['action' 'comedy' 'crime' 'drama' 'thriller']  "
      ]
     },
     "execution_count": 5,
     "metadata": {},
     "output_type": "execute_result"
    }
   ],
   "source": [
    "# we are giving the column/header name for the above mentioned dataset \n",
    "title.columns=['movieID','movie_title','year','IMDB rating','No. IMDB votes','genres']\n",
    "title.head()"
   ]
  },
  {
   "cell_type": "markdown",
   "metadata": {},
   "source": [
    "There are lots of data which maybe useful or not, we need to use common sense and identify which are useful"
   ]
  },
  {
   "cell_type": "markdown",
   "metadata": {},
   "source": [
    "By common sense we know that IMDB rating, genres and votes doesnt specify whether the dialouge is said by male or female artist"
   ]
  },
  {
   "cell_type": "markdown",
   "metadata": {},
   "source": [
    "what to we do???\n"
   ]
  },
  {
   "cell_type": "markdown",
   "metadata": {},
   "source": [
    "remove them Simple isnt it ???"
   ]
  },
  {
   "cell_type": "code",
   "execution_count": 6,
   "metadata": {},
   "outputs": [
    {
     "data": {
      "text/html": [
       "<div>\n",
       "<style scoped>\n",
       "    .dataframe tbody tr th:only-of-type {\n",
       "        vertical-align: middle;\n",
       "    }\n",
       "\n",
       "    .dataframe tbody tr th {\n",
       "        vertical-align: top;\n",
       "    }\n",
       "\n",
       "    .dataframe thead th {\n",
       "        text-align: right;\n",
       "    }\n",
       "</style>\n",
       "<table border=\"1\" class=\"dataframe\">\n",
       "  <thead>\n",
       "    <tr style=\"text-align: right;\">\n",
       "      <th></th>\n",
       "      <th>movieID</th>\n",
       "      <th>movie_title</th>\n",
       "      <th>year</th>\n",
       "    </tr>\n",
       "  </thead>\n",
       "  <tbody>\n",
       "    <tr>\n",
       "      <th>0</th>\n",
       "      <td>m0</td>\n",
       "      <td>10 things i hate about you</td>\n",
       "      <td>1999</td>\n",
       "    </tr>\n",
       "    <tr>\n",
       "      <th>1</th>\n",
       "      <td>m1</td>\n",
       "      <td>1492: conquest of paradise</td>\n",
       "      <td>1992</td>\n",
       "    </tr>\n",
       "    <tr>\n",
       "      <th>2</th>\n",
       "      <td>m2</td>\n",
       "      <td>15 minutes</td>\n",
       "      <td>2001</td>\n",
       "    </tr>\n",
       "    <tr>\n",
       "      <th>3</th>\n",
       "      <td>m3</td>\n",
       "      <td>2001: a space odyssey</td>\n",
       "      <td>1968</td>\n",
       "    </tr>\n",
       "    <tr>\n",
       "      <th>4</th>\n",
       "      <td>m4</td>\n",
       "      <td>48 hrs.</td>\n",
       "      <td>1982</td>\n",
       "    </tr>\n",
       "  </tbody>\n",
       "</table>\n",
       "</div>"
      ],
      "text/plain": [
       "  movieID                 movie_title  year\n",
       "0      m0  10 things i hate about you  1999\n",
       "1      m1  1492: conquest of paradise  1992\n",
       "2      m2                  15 minutes  2001\n",
       "3      m3       2001: a space odyssey  1968\n",
       "4      m4                     48 hrs.  1982"
      ]
     },
     "execution_count": 6,
     "metadata": {},
     "output_type": "execute_result"
    }
   ],
   "source": [
    "# we are selecting the following columns for title \n",
    "title = title[['movieID','movie_title', 'year']]\n",
    "title.head()"
   ]
  },
  {
   "cell_type": "markdown",
   "metadata": {},
   "source": [
    "By removing unwanted data we get the the useful informations like title, movieID and the year of its release "
   ]
  },
  {
   "cell_type": "markdown",
   "metadata": {},
   "source": [
    "But now your curious to know how much data we have ???"
   ]
  },
  {
   "cell_type": "code",
   "execution_count": 7,
   "metadata": {},
   "outputs": [
    {
     "data": {
      "text/plain": [
       "(617, 3)"
      ]
     },
     "execution_count": 7,
     "metadata": {},
     "output_type": "execute_result"
    }
   ],
   "source": [
    "#we can check the size of dataset using the shape using pandas just one line of code do you believe it??\n",
    "title.shape"
   ]
  },
  {
   "cell_type": "markdown",
   "metadata": {},
   "source": [
    "the dataset title consists of 617 rows and 4 columns"
   ]
  },
  {
   "cell_type": "markdown",
   "metadata": {},
   "source": [
    "Are you curious how many movies were released each year??\n",
    "\n",
    "we can make use of value counts function from pandas"
   ]
  },
  {
   "cell_type": "code",
   "execution_count": 8,
   "metadata": {},
   "outputs": [
    {
     "data": {
      "text/plain": [
       "1999      42\n",
       "2000      40\n",
       "1997      38\n",
       "1998      34\n",
       "2001      30\n",
       "1996      23\n",
       "1995      21\n",
       "1994      19\n",
       "1989      18\n",
       "1993      18\n",
       "1992      18\n",
       "2002      17\n",
       "2003      15\n",
       "1987      15\n",
       "1982      14\n",
       "1991      14\n",
       "1988      13\n",
       "2004      13\n",
       "1985      11\n",
       "1986      11\n",
       "1984      11\n",
       "1990      10\n",
       "1975       9\n",
       "2005       8\n",
       "1979       8\n",
       "1971       7\n",
       "2006       6\n",
       "1980       6\n",
       "1983       5\n",
       "1978       5\n",
       "          ..\n",
       "1941       2\n",
       "1961       2\n",
       "2009       2\n",
       "1967       2\n",
       "1950       2\n",
       "1957       1\n",
       "1969       1\n",
       "1958       1\n",
       "1995/I     1\n",
       "2003/I     1\n",
       "2009/I     1\n",
       "1944       1\n",
       "1936       1\n",
       "2010       1\n",
       "1965       1\n",
       "1942       1\n",
       "1996/I     1\n",
       "1990/I     1\n",
       "2008       1\n",
       "1989/I     1\n",
       "2004/I     1\n",
       "2007/I     1\n",
       "1946       1\n",
       "1968/I     1\n",
       "2005/I     1\n",
       "2002/I     1\n",
       "2000/I     1\n",
       "1956       1\n",
       "1992/I     1\n",
       "1937       1\n",
       "Name: year, Length: 88, dtype: int64"
      ]
     },
     "execution_count": 8,
     "metadata": {},
     "output_type": "execute_result"
    }
   ],
   "source": [
    "# we are checking for the value count of each year\n",
    "title.year.value_counts()"
   ]
  },
  {
   "cell_type": "markdown",
   "metadata": {},
   "source": [
    "Lots of movies are released each year \n",
    "\n",
    "but are you wondering why are we checking all this ??\n",
    "\n",
    "there is a concept of EDA \n",
    "\n",
    "now you may be wondering whats EDA?? right??\n",
    "\n",
    "its called Exploratory data Analysis\n",
    "\n",
    "dont worry we will go through the concept"
   ]
  },
  {
   "cell_type": "markdown",
   "metadata": {},
   "source": [
    "In order to understand EDA we need to understand the main idea behind it "
   ]
  },
  {
   "cell_type": "markdown",
   "metadata": {},
   "source": [
    "What ever data you provide you get the result based on it "
   ]
  },
  {
   "cell_type": "markdown",
   "metadata": {},
   "source": [
    "Garbage in garbage out"
   ]
  },
  {
   "cell_type": "markdown",
   "metadata": {},
   "source": [
    "We dont want that to happen hence we need clean data hence we need to remove garbage \n",
    "\n",
    "we remove NULL values from data so that we dont feed garbage to Model in prediction"
   ]
  },
  {
   "cell_type": "code",
   "execution_count": 10,
   "metadata": {},
   "outputs": [
    {
     "data": {
      "text/plain": [
       "1"
      ]
     },
     "execution_count": 10,
     "metadata": {},
     "output_type": "execute_result"
    }
   ],
   "source": [
    "# we want to remove NULL values but first we need to see how many null values are present\n",
    "# we is isnull() function to find NULL and we are summing them together to see how many are present\n",
    "title.year.isnull().sum()"
   ]
  },
  {
   "cell_type": "markdown",
   "metadata": {},
   "source": [
    "we found there is only one null value \n",
    "\n",
    "what are we going to do ???\n",
    "\n",
    "we remove them !!! SIMPLE isnt it ??"
   ]
  },
  {
   "cell_type": "code",
   "execution_count": 11,
   "metadata": {},
   "outputs": [
    {
     "data": {
      "text/plain": [
       "1999      42\n",
       "2000      40\n",
       "1997      38\n",
       "1998      34\n",
       "2001      30\n",
       "1996      23\n",
       "1995      21\n",
       "1994      19\n",
       "1989      18\n",
       "1993      18\n",
       "1992      18\n",
       "2002      17\n",
       "2003      15\n",
       "1987      15\n",
       "1982      14\n",
       "1991      14\n",
       "1988      13\n",
       "2004      13\n",
       "1985      11\n",
       "1986      11\n",
       "1984      11\n",
       "1990      10\n",
       "1975       9\n",
       "2005       8\n",
       "1979       8\n",
       "1971       7\n",
       "2006       6\n",
       "1980       6\n",
       "1983       5\n",
       "1978       5\n",
       "          ..\n",
       "1941       2\n",
       "1961       2\n",
       "2009       2\n",
       "1967       2\n",
       "1950       2\n",
       "1957       1\n",
       "1969       1\n",
       "1958       1\n",
       "1995/I     1\n",
       "2003/I     1\n",
       "2009/I     1\n",
       "1944       1\n",
       "1936       1\n",
       "2010       1\n",
       "1965       1\n",
       "1942       1\n",
       "1996/I     1\n",
       "1990/I     1\n",
       "2008       1\n",
       "1989/I     1\n",
       "2004/I     1\n",
       "2007/I     1\n",
       "1946       1\n",
       "1968/I     1\n",
       "2005/I     1\n",
       "2002/I     1\n",
       "2000/I     1\n",
       "1956       1\n",
       "1992/I     1\n",
       "1937       1\n",
       "Name: year, Length: 88, dtype: int64"
      ]
     },
     "execution_count": 11,
     "metadata": {},
     "output_type": "execute_result"
    }
   ],
   "source": [
    "# here we are dropping the null values from the dataset and then checking for the value count\n",
    "title=title.dropna()\n",
    "title.year.value_counts()"
   ]
  },
  {
   "cell_type": "markdown",
   "metadata": {},
   "source": [
    "Now lets check have we removed them ???"
   ]
  },
  {
   "cell_type": "code",
   "execution_count": 12,
   "metadata": {},
   "outputs": [
    {
     "data": {
      "text/plain": [
       "0"
      ]
     },
     "execution_count": 12,
     "metadata": {},
     "output_type": "execute_result"
    }
   ],
   "source": [
    "#using the same line of code we can check \n",
    "#there is an advance topic in python called Function where we can remove the repetition of code\n",
    "#by calling fuction we will get to it \n",
    "\n",
    "title.year.isnull().sum()"
   ]
  },
  {
   "cell_type": "markdown",
   "metadata": {},
   "source": [
    "Great we have removed the unwanted data this is also known as preprocessing "
   ]
  },
  {
   "cell_type": "markdown",
   "metadata": {},
   "source": [
    "Process of removing unwanted data and getting the data in a particular format is known as preprocessing \n",
    "there are various techniques lets go through them one by one"
   ]
  },
  {
   "cell_type": "markdown",
   "metadata": {},
   "source": [
    "we can check the datatypes of each column using dtypes"
   ]
  },
  {
   "cell_type": "code",
   "execution_count": 13,
   "metadata": {},
   "outputs": [
    {
     "data": {
      "text/plain": [
       "movieID        object\n",
       "movie_title    object\n",
       "year           object\n",
       "dtype: object"
      ]
     },
     "execution_count": 13,
     "metadata": {},
     "output_type": "execute_result"
    }
   ],
   "source": [
    "title.dtypes"
   ]
  },
  {
   "cell_type": "markdown",
   "metadata": {},
   "source": [
    "we can see that year is in object type but that wrong"
   ]
  },
  {
   "cell_type": "markdown",
   "metadata": {},
   "source": [
    "what to do now ???\n",
    "\n",
    "simple change it "
   ]
  },
  {
   "cell_type": "code",
   "execution_count": 14,
   "metadata": {},
   "outputs": [],
   "source": [
    "# here we are converting the years to numeric \n",
    "title.year = pd.to_numeric(title.year.apply(lambda y: str(y)[0:4]), errors='coerce')\n"
   ]
  },
  {
   "cell_type": "markdown",
   "metadata": {},
   "source": [
    "In the above code cell we are converting date to numeric \n",
    "but we need to do it for 616 rows of data \n",
    "\n",
    "we can do it using **for loop** but we need to write multiple lines of code\n",
    "but we can make it simple using **lambda** function \n",
    "\n"
   ]
  },
  {
   "cell_type": "markdown",
   "metadata": {},
   "source": [
    "But the above code looks difficult isn't it lets make it simple\n",
    "\n",
    "we are saying pandas that change date column to numeric using **to_numeric**\n",
    "\n",
    "but we need to do it for all rows hence we use apply function\n",
    "\n",
    "but where to apply ??\n",
    "\n",
    "we are saying to all rows that string y must be changed to numeric \n",
    "\n",
    "simple isn't it??"
   ]
  },
  {
   "cell_type": "markdown",
   "metadata": {},
   "source": [
    "** what will that do ???**\n",
    "we need to see value count function "
   ]
  },
  {
   "cell_type": "code",
   "execution_count": 15,
   "metadata": {},
   "outputs": [
    {
     "data": {
      "text/plain": [
       "1999    42\n",
       "2000    41\n",
       "1997    38\n",
       "1998    37\n",
       "2001    30\n",
       "1996    24\n",
       "1995    22\n",
       "1989    19\n",
       "1992    19\n",
       "1994    19\n",
       "1993    18\n",
       "2002    18\n",
       "2003    16\n",
       "1987    15\n",
       "1991    14\n",
       "1982    14\n",
       "2004    14\n",
       "1988    13\n",
       "1984    11\n",
       "1986    11\n",
       "1985    11\n",
       "1990    11\n",
       "2005     9\n",
       "1975     9\n",
       "1979     8\n",
       "1971     7\n",
       "2006     6\n",
       "1980     6\n",
       "2007     5\n",
       "1983     5\n",
       "        ..\n",
       "1954     3\n",
       "1934     3\n",
       "1968     3\n",
       "1953     3\n",
       "1972     3\n",
       "2009     3\n",
       "1941     2\n",
       "1933     2\n",
       "1931     2\n",
       "1945     2\n",
       "1950     2\n",
       "1940     2\n",
       "1927     2\n",
       "1970     2\n",
       "1961     2\n",
       "1967     2\n",
       "1963     2\n",
       "1966     2\n",
       "1956     1\n",
       "1937     1\n",
       "2008     1\n",
       "1969     1\n",
       "1936     1\n",
       "1965     1\n",
       "1957     1\n",
       "1942     1\n",
       "1944     1\n",
       "1958     1\n",
       "1946     1\n",
       "2010     1\n",
       "Name: year, Length: 74, dtype: int64"
      ]
     },
     "execution_count": 15,
     "metadata": {},
     "output_type": "execute_result"
    }
   ],
   "source": [
    "title.year.value_counts()"
   ]
  },
  {
   "cell_type": "code",
   "execution_count": 16,
   "metadata": {},
   "outputs": [
    {
     "data": {
      "text/plain": [
       "'1989/I     1\\n2004/I     1\\n\\n1995/I     1\\n2002/I     1\\n\\n2005/I     1\\n2009/I     1\\n2007/I     1\\n'"
      ]
     },
     "execution_count": 16,
     "metadata": {},
     "output_type": "execute_result"
    }
   ],
   "source": [
    "\"\"\"1989/I     1\n",
    "2004/I     1\n",
    "\n",
    "1995/I     1\n",
    "2002/I     1\n",
    "\n",
    "2005/I     1\n",
    "2009/I     1\n",
    "2007/I     1\n",
    "\"\"\" \n",
    "# All this are gone now"
   ]
  },
  {
   "cell_type": "code",
   "execution_count": null,
   "metadata": {},
   "outputs": [],
   "source": []
  },
  {
   "cell_type": "code",
   "execution_count": 17,
   "metadata": {},
   "outputs": [
    {
     "data": {
      "text/plain": [
       "(616, 3)"
      ]
     },
     "execution_count": 17,
     "metadata": {},
     "output_type": "execute_result"
    }
   ],
   "source": [
    "# Lets check the shape again\n",
    "title.shape"
   ]
  },
  {
   "cell_type": "markdown",
   "metadata": {},
   "source": [
    "After dropping the null values we have 616 rows and 4 columns in the dataset title"
   ]
  },
  {
   "cell_type": "markdown",
   "metadata": {},
   "source": [
    "All we did till now is only on one table we still have 3 more left \n",
    "\n",
    "what to we do now??\n",
    "\n",
    "read them also and start preprocessing them \n",
    "\n",
    "**Fun Fact**\n",
    "70 % of time in data science lifecycle involves data cleaning and preprocessing \n",
    "\n",
    "dont worry we will get to Machine Learning as well"
   ]
  },
  {
   "cell_type": "markdown",
   "metadata": {},
   "source": [
    "** Lets repeat**"
   ]
  },
  {
   "cell_type": "code",
   "execution_count": 18,
   "metadata": {},
   "outputs": [
    {
     "data": {
      "text/html": [
       "<div>\n",
       "<style scoped>\n",
       "    .dataframe tbody tr th:only-of-type {\n",
       "        vertical-align: middle;\n",
       "    }\n",
       "\n",
       "    .dataframe tbody tr th {\n",
       "        vertical-align: top;\n",
       "    }\n",
       "\n",
       "    .dataframe thead th {\n",
       "        text-align: right;\n",
       "    }\n",
       "</style>\n",
       "<table border=\"1\" class=\"dataframe\">\n",
       "  <thead>\n",
       "    <tr style=\"text-align: right;\">\n",
       "      <th></th>\n",
       "      <th>0</th>\n",
       "      <th>1</th>\n",
       "      <th>2</th>\n",
       "      <th>3</th>\n",
       "      <th>4</th>\n",
       "      <th>5</th>\n",
       "    </tr>\n",
       "  </thead>\n",
       "  <tbody>\n",
       "    <tr>\n",
       "      <th>0</th>\n",
       "      <td>u0</td>\n",
       "      <td>BIANCA</td>\n",
       "      <td>m0</td>\n",
       "      <td>10 things i hate about you</td>\n",
       "      <td>f</td>\n",
       "      <td>4</td>\n",
       "    </tr>\n",
       "    <tr>\n",
       "      <th>1</th>\n",
       "      <td>u1</td>\n",
       "      <td>BRUCE</td>\n",
       "      <td>m0</td>\n",
       "      <td>10 things i hate about you</td>\n",
       "      <td>?</td>\n",
       "      <td>?</td>\n",
       "    </tr>\n",
       "    <tr>\n",
       "      <th>2</th>\n",
       "      <td>u2</td>\n",
       "      <td>CAMERON</td>\n",
       "      <td>m0</td>\n",
       "      <td>10 things i hate about you</td>\n",
       "      <td>m</td>\n",
       "      <td>3</td>\n",
       "    </tr>\n",
       "    <tr>\n",
       "      <th>3</th>\n",
       "      <td>u3</td>\n",
       "      <td>CHASTITY</td>\n",
       "      <td>m0</td>\n",
       "      <td>10 things i hate about you</td>\n",
       "      <td>?</td>\n",
       "      <td>?</td>\n",
       "    </tr>\n",
       "    <tr>\n",
       "      <th>4</th>\n",
       "      <td>u4</td>\n",
       "      <td>JOEY</td>\n",
       "      <td>m0</td>\n",
       "      <td>10 things i hate about you</td>\n",
       "      <td>m</td>\n",
       "      <td>6</td>\n",
       "    </tr>\n",
       "  </tbody>\n",
       "</table>\n",
       "</div>"
      ],
      "text/plain": [
       "    0         1   2                           3  4  5\n",
       "0  u0    BIANCA  m0  10 things i hate about you  f  4\n",
       "1  u1     BRUCE  m0  10 things i hate about you  ?  ?\n",
       "2  u2   CAMERON  m0  10 things i hate about you  m  3\n",
       "3  u3  CHASTITY  m0  10 things i hate about you  ?  ?\n",
       "4  u4      JOEY  m0  10 things i hate about you  m  6"
      ]
     },
     "execution_count": 18,
     "metadata": {},
     "output_type": "execute_result"
    }
   ],
   "source": [
    "# 2. # reading the dataset 2 (Movie Characters):\n",
    "character=pd.read_csv(\"movie_characters_metadata.tsv\",warn_bad_lines =False,error_bad_lines=False,sep='\\t',header=None)\n",
    "character.head()"
   ]
  },
  {
   "cell_type": "code",
   "execution_count": 19,
   "metadata": {},
   "outputs": [
    {
     "data": {
      "text/html": [
       "<div>\n",
       "<style scoped>\n",
       "    .dataframe tbody tr th:only-of-type {\n",
       "        vertical-align: middle;\n",
       "    }\n",
       "\n",
       "    .dataframe tbody tr th {\n",
       "        vertical-align: top;\n",
       "    }\n",
       "\n",
       "    .dataframe thead th {\n",
       "        text-align: right;\n",
       "    }\n",
       "</style>\n",
       "<table border=\"1\" class=\"dataframe\">\n",
       "  <thead>\n",
       "    <tr style=\"text-align: right;\">\n",
       "      <th></th>\n",
       "      <th>characterID</th>\n",
       "      <th>character_name</th>\n",
       "      <th>movieID</th>\n",
       "      <th>movie_title</th>\n",
       "      <th>gender</th>\n",
       "      <th>credit</th>\n",
       "    </tr>\n",
       "  </thead>\n",
       "  <tbody>\n",
       "    <tr>\n",
       "      <th>0</th>\n",
       "      <td>u0</td>\n",
       "      <td>BIANCA</td>\n",
       "      <td>m0</td>\n",
       "      <td>10 things i hate about you</td>\n",
       "      <td>f</td>\n",
       "      <td>4</td>\n",
       "    </tr>\n",
       "    <tr>\n",
       "      <th>1</th>\n",
       "      <td>u1</td>\n",
       "      <td>BRUCE</td>\n",
       "      <td>m0</td>\n",
       "      <td>10 things i hate about you</td>\n",
       "      <td>?</td>\n",
       "      <td>?</td>\n",
       "    </tr>\n",
       "    <tr>\n",
       "      <th>2</th>\n",
       "      <td>u2</td>\n",
       "      <td>CAMERON</td>\n",
       "      <td>m0</td>\n",
       "      <td>10 things i hate about you</td>\n",
       "      <td>m</td>\n",
       "      <td>3</td>\n",
       "    </tr>\n",
       "    <tr>\n",
       "      <th>3</th>\n",
       "      <td>u3</td>\n",
       "      <td>CHASTITY</td>\n",
       "      <td>m0</td>\n",
       "      <td>10 things i hate about you</td>\n",
       "      <td>?</td>\n",
       "      <td>?</td>\n",
       "    </tr>\n",
       "    <tr>\n",
       "      <th>4</th>\n",
       "      <td>u4</td>\n",
       "      <td>JOEY</td>\n",
       "      <td>m0</td>\n",
       "      <td>10 things i hate about you</td>\n",
       "      <td>m</td>\n",
       "      <td>6</td>\n",
       "    </tr>\n",
       "  </tbody>\n",
       "</table>\n",
       "</div>"
      ],
      "text/plain": [
       "  characterID character_name movieID                 movie_title gender credit\n",
       "0          u0         BIANCA      m0  10 things i hate about you      f      4\n",
       "1          u1          BRUCE      m0  10 things i hate about you      ?      ?\n",
       "2          u2        CAMERON      m0  10 things i hate about you      m      3\n",
       "3          u3       CHASTITY      m0  10 things i hate about you      ?      ?\n",
       "4          u4           JOEY      m0  10 things i hate about you      m      6"
      ]
     },
     "execution_count": 19,
     "metadata": {},
     "output_type": "execute_result"
    }
   ],
   "source": [
    "# we are giving the column name for the above mentioned dataset\n",
    "character.columns=['characterID','character_name','movieID','movie_title','gender','credit']\n",
    "character.head()"
   ]
  },
  {
   "cell_type": "code",
   "execution_count": 20,
   "metadata": {},
   "outputs": [
    {
     "data": {
      "text/plain": [
       "(9034, 6)"
      ]
     },
     "execution_count": 20,
     "metadata": {},
     "output_type": "execute_result"
    }
   ],
   "source": [
    "# displaying the shape of the datset\n",
    "character.shape"
   ]
  },
  {
   "cell_type": "markdown",
   "metadata": {},
   "source": [
    "the dataset character consists of 9034 rows and 6 columns available"
   ]
  },
  {
   "cell_type": "code",
   "execution_count": 21,
   "metadata": {},
   "outputs": [
    {
     "data": {
      "text/plain": [
       "?    6008\n",
       "m    1899\n",
       "f     921\n",
       "M     145\n",
       "F      44\n",
       "Name: gender, dtype: int64"
      ]
     },
     "execution_count": 21,
     "metadata": {},
     "output_type": "execute_result"
    }
   ],
   "source": [
    "# Displaying the value_count (unique values) for the dataset \n",
    "character.gender.value_counts()"
   ]
  },
  {
   "cell_type": "markdown",
   "metadata": {},
   "source": [
    "OMG whats happening ???\n",
    "there are 5 classes in gender??\n",
    "which can't be right???\n",
    "what do we do now??"
   ]
  },
  {
   "cell_type": "markdown",
   "metadata": {},
   "source": [
    "**Simple** lets remove *?*  since we dont know gender you cant identify machine can't either"
   ]
  },
  {
   "cell_type": "markdown",
   "metadata": {},
   "source": [
    "remaining M F m f can be clubed together as 0 1"
   ]
  },
  {
   "cell_type": "markdown",
   "metadata": {},
   "source": [
    "You will be wondering why are we doing it ???\n",
    "\n",
    "Machine understand 0's and 1's better and since you know we are doing binary classification\n",
    "\n",
    "0's and 1's got the idea???"
   ]
  },
  {
   "cell_type": "code",
   "execution_count": 22,
   "metadata": {},
   "outputs": [
    {
     "data": {
      "text/plain": [
       "(3026, 6)"
      ]
     },
     "execution_count": 22,
     "metadata": {},
     "output_type": "execute_result"
    }
   ],
   "source": [
    "# We need to clean this column. Let's also remove the characters were gender information is not available. \n",
    "character = character[character.gender != '?']\n",
    "character.gender = character.gender.apply(lambda g: 0 if g in ['m', 'M'] else 1)  ## Label encoding\n",
    "\n",
    "character.shape"
   ]
  },
  {
   "cell_type": "markdown",
   "metadata": {},
   "source": [
    "In the above code we are cleaning the dataset to get male and female information and here we are using *lambda function* to convert the information to 0 as male and 1 as female with 3026 rows and 6 columns"
   ]
  },
  {
   "cell_type": "markdown",
   "metadata": {},
   "source": [
    "It is similar to the function we used earlier. "
   ]
  },
  {
   "cell_type": "code",
   "execution_count": 23,
   "metadata": {},
   "outputs": [
    {
     "data": {
      "text/plain": [
       "0    2044\n",
       "1     982\n",
       "Name: gender, dtype: int64"
      ]
     },
     "execution_count": 23,
     "metadata": {},
     "output_type": "execute_result"
    }
   ],
   "source": [
    "# Then again  checking for the unique value using value_count function\n",
    "character.gender.value_counts()"
   ]
  },
  {
   "cell_type": "markdown",
   "metadata": {},
   "source": [
    "we are getting 2044 males and 982 females available in the dataset "
   ]
  },
  {
   "cell_type": "markdown",
   "metadata": {},
   "source": [
    "Now 5 class became only two "
   ]
  },
  {
   "cell_type": "code",
   "execution_count": 24,
   "metadata": {},
   "outputs": [
    {
     "data": {
      "text/plain": [
       "1       497\n",
       "2       443\n",
       "3       352\n",
       "?       330\n",
       "4       268\n",
       "5       211\n",
       "6       169\n",
       "7       125\n",
       "8       100\n",
       "9        79\n",
       "10       54\n",
       "11       40\n",
       "1000     38\n",
       "13       33\n",
       "12       32\n",
       "16       26\n",
       "18       24\n",
       "14       24\n",
       "17       19\n",
       "19       18\n",
       "15       14\n",
       "21       13\n",
       "22        9\n",
       "20        8\n",
       "29        7\n",
       "27        6\n",
       "26        5\n",
       "24        5\n",
       "25        5\n",
       "35        4\n",
       "23        4\n",
       "31        4\n",
       "45        4\n",
       "38        3\n",
       "34        3\n",
       "43        3\n",
       "33        3\n",
       "36        2\n",
       "28        2\n",
       "39        2\n",
       "32        2\n",
       "59        2\n",
       "30        2\n",
       "42        2\n",
       "46        1\n",
       "41        1\n",
       "37        1\n",
       "51        1\n",
       "70        1\n",
       "62        1\n",
       "47        1\n",
       "71        1\n",
       "49        1\n",
       "44        1\n",
       "50        1\n",
       "82        1\n",
       "63        1\n",
       "Name: credit, dtype: int64"
      ]
     },
     "execution_count": 24,
     "metadata": {},
     "output_type": "execute_result"
    }
   ],
   "source": [
    "# since the are some ? (question marks) in credit column let us check the valuecount for it\n",
    "character.credit.value_counts() "
   ]
  },
  {
   "cell_type": "markdown",
   "metadata": {},
   "source": [
    "There are 330 values missing"
   ]
  },
  {
   "cell_type": "code",
   "execution_count": 25,
   "metadata": {},
   "outputs": [
    {
     "data": {
      "text/plain": [
       "10+    782\n",
       "1      497\n",
       "2      443\n",
       "3      352\n",
       "4      268\n",
       "5      211\n",
       "6      169\n",
       "7      125\n",
       "8      100\n",
       "9       79\n",
       "Name: credit, dtype: int64"
      ]
     },
     "execution_count": 25,
     "metadata": {},
     "output_type": "execute_result"
    }
   ],
   "source": [
    "# from the above out the credit column seems to be useful and can be used so let us use .apply() to \n",
    "#iterate the dataframe using lambda function\n",
    "character.credit = character.credit.apply(lambda p: '10+' if not p in ['1', '2', '3', '4', '5', '6', '7', '8', '9'] else p)  ## Label encoding\n",
    "character.credit.value_counts() "
   ]
  },
  {
   "cell_type": "markdown",
   "metadata": {},
   "source": [
    "By applying lambda function we are getting the above results which is combined all the values that belong to 1 together and followed the same process for the entire data. "
   ]
  },
  {
   "cell_type": "markdown",
   "metadata": {},
   "source": [
    "** done with two tables two more to go **\n",
    "\n",
    "Have patience"
   ]
  },
  {
   "cell_type": "markdown",
   "metadata": {},
   "source": [
    "What to we do now **repeat**"
   ]
  },
  {
   "cell_type": "code",
   "execution_count": 26,
   "metadata": {},
   "outputs": [
    {
     "data": {
      "text/html": [
       "<div>\n",
       "<style scoped>\n",
       "    .dataframe tbody tr th:only-of-type {\n",
       "        vertical-align: middle;\n",
       "    }\n",
       "\n",
       "    .dataframe tbody tr th {\n",
       "        vertical-align: top;\n",
       "    }\n",
       "\n",
       "    .dataframe thead th {\n",
       "        text-align: right;\n",
       "    }\n",
       "</style>\n",
       "<table border=\"1\" class=\"dataframe\">\n",
       "  <thead>\n",
       "    <tr style=\"text-align: right;\">\n",
       "      <th></th>\n",
       "      <th>0</th>\n",
       "      <th>1</th>\n",
       "      <th>2</th>\n",
       "      <th>3</th>\n",
       "      <th>4</th>\n",
       "    </tr>\n",
       "  </thead>\n",
       "  <tbody>\n",
       "    <tr>\n",
       "      <th>0</th>\n",
       "      <td>L1045</td>\n",
       "      <td>u0</td>\n",
       "      <td>m0</td>\n",
       "      <td>BIANCA</td>\n",
       "      <td>They do not!</td>\n",
       "    </tr>\n",
       "    <tr>\n",
       "      <th>1</th>\n",
       "      <td>L1044</td>\n",
       "      <td>u2</td>\n",
       "      <td>m0</td>\n",
       "      <td>CAMERON</td>\n",
       "      <td>They do to!</td>\n",
       "    </tr>\n",
       "    <tr>\n",
       "      <th>2</th>\n",
       "      <td>L985</td>\n",
       "      <td>u0</td>\n",
       "      <td>m0</td>\n",
       "      <td>BIANCA</td>\n",
       "      <td>I hope so.</td>\n",
       "    </tr>\n",
       "    <tr>\n",
       "      <th>3</th>\n",
       "      <td>L984</td>\n",
       "      <td>u2</td>\n",
       "      <td>m0</td>\n",
       "      <td>CAMERON</td>\n",
       "      <td>She okay?</td>\n",
       "    </tr>\n",
       "    <tr>\n",
       "      <th>4</th>\n",
       "      <td>L925</td>\n",
       "      <td>u0</td>\n",
       "      <td>m0</td>\n",
       "      <td>BIANCA</td>\n",
       "      <td>Let's go.</td>\n",
       "    </tr>\n",
       "  </tbody>\n",
       "</table>\n",
       "</div>"
      ],
      "text/plain": [
       "       0   1   2        3             4\n",
       "0  L1045  u0  m0   BIANCA  They do not!\n",
       "1  L1044  u2  m0  CAMERON   They do to!\n",
       "2   L985  u0  m0   BIANCA    I hope so.\n",
       "3   L984  u2  m0  CAMERON     She okay?\n",
       "4   L925  u0  m0   BIANCA     Let's go."
      ]
     },
     "execution_count": 26,
     "metadata": {},
     "output_type": "execute_result"
    }
   ],
   "source": [
    "# 3. reading the dataset 3 (Lines):\n",
    "lines=pd.read_csv(\"movie_lines.tsv\",warn_bad_lines =False,error_bad_lines=False,sep='\\t',header=None)\n",
    "lines.head()"
   ]
  },
  {
   "cell_type": "code",
   "execution_count": 27,
   "metadata": {},
   "outputs": [
    {
     "data": {
      "text/html": [
       "<div>\n",
       "<style scoped>\n",
       "    .dataframe tbody tr th:only-of-type {\n",
       "        vertical-align: middle;\n",
       "    }\n",
       "\n",
       "    .dataframe tbody tr th {\n",
       "        vertical-align: top;\n",
       "    }\n",
       "\n",
       "    .dataframe thead th {\n",
       "        text-align: right;\n",
       "    }\n",
       "</style>\n",
       "<table border=\"1\" class=\"dataframe\">\n",
       "  <thead>\n",
       "    <tr style=\"text-align: right;\">\n",
       "      <th></th>\n",
       "      <th>lineID</th>\n",
       "      <th>characterID</th>\n",
       "      <th>movieID</th>\n",
       "      <th>character_name</th>\n",
       "      <th>text_utterance</th>\n",
       "    </tr>\n",
       "  </thead>\n",
       "  <tbody>\n",
       "    <tr>\n",
       "      <th>0</th>\n",
       "      <td>L1045</td>\n",
       "      <td>u0</td>\n",
       "      <td>m0</td>\n",
       "      <td>BIANCA</td>\n",
       "      <td>They do not!</td>\n",
       "    </tr>\n",
       "    <tr>\n",
       "      <th>1</th>\n",
       "      <td>L1044</td>\n",
       "      <td>u2</td>\n",
       "      <td>m0</td>\n",
       "      <td>CAMERON</td>\n",
       "      <td>They do to!</td>\n",
       "    </tr>\n",
       "    <tr>\n",
       "      <th>2</th>\n",
       "      <td>L985</td>\n",
       "      <td>u0</td>\n",
       "      <td>m0</td>\n",
       "      <td>BIANCA</td>\n",
       "      <td>I hope so.</td>\n",
       "    </tr>\n",
       "    <tr>\n",
       "      <th>3</th>\n",
       "      <td>L984</td>\n",
       "      <td>u2</td>\n",
       "      <td>m0</td>\n",
       "      <td>CAMERON</td>\n",
       "      <td>She okay?</td>\n",
       "    </tr>\n",
       "    <tr>\n",
       "      <th>4</th>\n",
       "      <td>L925</td>\n",
       "      <td>u0</td>\n",
       "      <td>m0</td>\n",
       "      <td>BIANCA</td>\n",
       "      <td>Let's go.</td>\n",
       "    </tr>\n",
       "  </tbody>\n",
       "</table>\n",
       "</div>"
      ],
      "text/plain": [
       "  lineID characterID movieID character_name text_utterance\n",
       "0  L1045          u0      m0         BIANCA   They do not!\n",
       "1  L1044          u2      m0        CAMERON    They do to!\n",
       "2   L985          u0      m0         BIANCA     I hope so.\n",
       "3   L984          u2      m0        CAMERON      She okay?\n",
       "4   L925          u0      m0         BIANCA      Let's go."
      ]
     },
     "execution_count": 27,
     "metadata": {},
     "output_type": "execute_result"
    }
   ],
   "source": [
    "# we are giving the column name for the above mentioned dataset\n",
    "lines.columns=['lineID','characterID','movieID','character_name','text_utterance']\n",
    "lines.head()"
   ]
  },
  {
   "cell_type": "markdown",
   "metadata": {},
   "source": [
    "Now let us combine lines and character dataset together using the parameter merge of *pandas* "
   ]
  },
  {
   "cell_type": "code",
   "execution_count": 28,
   "metadata": {},
   "outputs": [
    {
     "data": {
      "text/html": [
       "<div>\n",
       "<style scoped>\n",
       "    .dataframe tbody tr th:only-of-type {\n",
       "        vertical-align: middle;\n",
       "    }\n",
       "\n",
       "    .dataframe tbody tr th {\n",
       "        vertical-align: top;\n",
       "    }\n",
       "\n",
       "    .dataframe thead th {\n",
       "        text-align: right;\n",
       "    }\n",
       "</style>\n",
       "<table border=\"1\" class=\"dataframe\">\n",
       "  <thead>\n",
       "    <tr style=\"text-align: right;\">\n",
       "      <th></th>\n",
       "      <th>lineID</th>\n",
       "      <th>characterID</th>\n",
       "      <th>movieID</th>\n",
       "      <th>character_name</th>\n",
       "      <th>text_utterance</th>\n",
       "      <th>movie_title</th>\n",
       "      <th>gender</th>\n",
       "      <th>credit</th>\n",
       "    </tr>\n",
       "  </thead>\n",
       "  <tbody>\n",
       "    <tr>\n",
       "      <th>0</th>\n",
       "      <td>L1045</td>\n",
       "      <td>u0</td>\n",
       "      <td>m0</td>\n",
       "      <td>BIANCA</td>\n",
       "      <td>They do not!</td>\n",
       "      <td>10 things i hate about you</td>\n",
       "      <td>1</td>\n",
       "      <td>4</td>\n",
       "    </tr>\n",
       "    <tr>\n",
       "      <th>1</th>\n",
       "      <td>L985</td>\n",
       "      <td>u0</td>\n",
       "      <td>m0</td>\n",
       "      <td>BIANCA</td>\n",
       "      <td>I hope so.</td>\n",
       "      <td>10 things i hate about you</td>\n",
       "      <td>1</td>\n",
       "      <td>4</td>\n",
       "    </tr>\n",
       "    <tr>\n",
       "      <th>2</th>\n",
       "      <td>L925</td>\n",
       "      <td>u0</td>\n",
       "      <td>m0</td>\n",
       "      <td>BIANCA</td>\n",
       "      <td>Let's go.</td>\n",
       "      <td>10 things i hate about you</td>\n",
       "      <td>1</td>\n",
       "      <td>4</td>\n",
       "    </tr>\n",
       "    <tr>\n",
       "      <th>3</th>\n",
       "      <td>L872</td>\n",
       "      <td>u0</td>\n",
       "      <td>m0</td>\n",
       "      <td>BIANCA</td>\n",
       "      <td>Okay -- you're gonna need to learn how to lie.</td>\n",
       "      <td>10 things i hate about you</td>\n",
       "      <td>1</td>\n",
       "      <td>4</td>\n",
       "    </tr>\n",
       "    <tr>\n",
       "      <th>4</th>\n",
       "      <td>L869</td>\n",
       "      <td>u0</td>\n",
       "      <td>m0</td>\n",
       "      <td>BIANCA</td>\n",
       "      <td>Like my fear of wearing pastels?</td>\n",
       "      <td>10 things i hate about you</td>\n",
       "      <td>1</td>\n",
       "      <td>4</td>\n",
       "    </tr>\n",
       "  </tbody>\n",
       "</table>\n",
       "</div>"
      ],
      "text/plain": [
       "  lineID characterID movieID character_name  \\\n",
       "0  L1045          u0      m0         BIANCA   \n",
       "1   L985          u0      m0         BIANCA   \n",
       "2   L925          u0      m0         BIANCA   \n",
       "3   L872          u0      m0         BIANCA   \n",
       "4   L869          u0      m0         BIANCA   \n",
       "\n",
       "                                   text_utterance                 movie_title  \\\n",
       "0                                    They do not!  10 things i hate about you   \n",
       "1                                      I hope so.  10 things i hate about you   \n",
       "2                                       Let's go.  10 things i hate about you   \n",
       "3  Okay -- you're gonna need to learn how to lie.  10 things i hate about you   \n",
       "4                Like my fear of wearing pastels?  10 things i hate about you   \n",
       "\n",
       "   gender credit  \n",
       "0       1      4  \n",
       "1       1      4  \n",
       "2       1      4  \n",
       "3       1      4  \n",
       "4       1      4  "
      ]
     },
     "execution_count": 28,
     "metadata": {},
     "output_type": "execute_result"
    }
   ],
   "source": [
    "# Now we are merging the dataset (line and character) together using the parameter merge of pandas\n",
    "char_line = pd.merge(lines, character, how='inner', on=['characterID','movieID', 'character_name'])\n",
    "char_line.head()"
   ]
  },
  {
   "cell_type": "code",
   "execution_count": 29,
   "metadata": {},
   "outputs": [
    {
     "data": {
      "text/plain": [
       "(229309, 8)"
      ]
     },
     "execution_count": 29,
     "metadata": {},
     "output_type": "execute_result"
    }
   ],
   "source": [
    "# Here we are checking for the shape of the dataset\n",
    "char_line.shape"
   ]
  },
  {
   "cell_type": "markdown",
   "metadata": {},
   "source": [
    "Now let us remove the empty dialogues from the dataset *char_line*"
   ]
  },
  {
   "cell_type": "code",
   "execution_count": 30,
   "metadata": {},
   "outputs": [
    {
     "data": {
      "text/plain": [
       "(229106, 8)"
      ]
     },
     "execution_count": 30,
     "metadata": {},
     "output_type": "execute_result"
    }
   ],
   "source": [
    "# Now let us remove the empty dialogues from the dataset char_line\n",
    "char_line = char_line[char_line['text_utterance'].notnull()]\n",
    "char_line.shape"
   ]
  },
  {
   "cell_type": "markdown",
   "metadata": {},
   "source": [
    "At Last we reached the final table\n",
    "\n",
    "Lets repeat for one last time"
   ]
  },
  {
   "cell_type": "code",
   "execution_count": 31,
   "metadata": {},
   "outputs": [
    {
     "data": {
      "text/html": [
       "<div>\n",
       "<style scoped>\n",
       "    .dataframe tbody tr th:only-of-type {\n",
       "        vertical-align: middle;\n",
       "    }\n",
       "\n",
       "    .dataframe tbody tr th {\n",
       "        vertical-align: top;\n",
       "    }\n",
       "\n",
       "    .dataframe thead th {\n",
       "        text-align: right;\n",
       "    }\n",
       "</style>\n",
       "<table border=\"1\" class=\"dataframe\">\n",
       "  <thead>\n",
       "    <tr style=\"text-align: right;\">\n",
       "      <th></th>\n",
       "      <th>0</th>\n",
       "      <th>1</th>\n",
       "      <th>2</th>\n",
       "      <th>3</th>\n",
       "    </tr>\n",
       "  </thead>\n",
       "  <tbody>\n",
       "    <tr>\n",
       "      <th>0</th>\n",
       "      <td>u0</td>\n",
       "      <td>u2</td>\n",
       "      <td>m0</td>\n",
       "      <td>['L194' 'L195' 'L196' 'L197']</td>\n",
       "    </tr>\n",
       "    <tr>\n",
       "      <th>1</th>\n",
       "      <td>u0</td>\n",
       "      <td>u2</td>\n",
       "      <td>m0</td>\n",
       "      <td>['L198' 'L199']</td>\n",
       "    </tr>\n",
       "    <tr>\n",
       "      <th>2</th>\n",
       "      <td>u0</td>\n",
       "      <td>u2</td>\n",
       "      <td>m0</td>\n",
       "      <td>['L200' 'L201' 'L202' 'L203']</td>\n",
       "    </tr>\n",
       "    <tr>\n",
       "      <th>3</th>\n",
       "      <td>u0</td>\n",
       "      <td>u2</td>\n",
       "      <td>m0</td>\n",
       "      <td>['L204' 'L205' 'L206']</td>\n",
       "    </tr>\n",
       "    <tr>\n",
       "      <th>4</th>\n",
       "      <td>u0</td>\n",
       "      <td>u2</td>\n",
       "      <td>m0</td>\n",
       "      <td>['L207' 'L208']</td>\n",
       "    </tr>\n",
       "  </tbody>\n",
       "</table>\n",
       "</div>"
      ],
      "text/plain": [
       "    0   1   2                              3\n",
       "0  u0  u2  m0  ['L194' 'L195' 'L196' 'L197']\n",
       "1  u0  u2  m0                ['L198' 'L199']\n",
       "2  u0  u2  m0  ['L200' 'L201' 'L202' 'L203']\n",
       "3  u0  u2  m0         ['L204' 'L205' 'L206']\n",
       "4  u0  u2  m0                ['L207' 'L208']"
      ]
     },
     "execution_count": 31,
     "metadata": {},
     "output_type": "execute_result"
    }
   ],
   "source": [
    "# 4. reading the dataset 4 (Conversations):\n",
    "Conversation=pd.read_csv(\"movie_conversations.tsv\",sep='\\t',header=None)\n",
    "Conversation.head()"
   ]
  },
  {
   "cell_type": "code",
   "execution_count": 32,
   "metadata": {},
   "outputs": [
    {
     "data": {
      "text/html": [
       "<div>\n",
       "<style scoped>\n",
       "    .dataframe tbody tr th:only-of-type {\n",
       "        vertical-align: middle;\n",
       "    }\n",
       "\n",
       "    .dataframe tbody tr th {\n",
       "        vertical-align: top;\n",
       "    }\n",
       "\n",
       "    .dataframe thead th {\n",
       "        text-align: right;\n",
       "    }\n",
       "</style>\n",
       "<table border=\"1\" class=\"dataframe\">\n",
       "  <thead>\n",
       "    <tr style=\"text-align: right;\">\n",
       "      <th></th>\n",
       "      <th>characterID</th>\n",
       "      <th>characterID</th>\n",
       "      <th>movieID</th>\n",
       "      <th>list utterances</th>\n",
       "    </tr>\n",
       "  </thead>\n",
       "  <tbody>\n",
       "    <tr>\n",
       "      <th>0</th>\n",
       "      <td>u0</td>\n",
       "      <td>u2</td>\n",
       "      <td>m0</td>\n",
       "      <td>['L194' 'L195' 'L196' 'L197']</td>\n",
       "    </tr>\n",
       "    <tr>\n",
       "      <th>1</th>\n",
       "      <td>u0</td>\n",
       "      <td>u2</td>\n",
       "      <td>m0</td>\n",
       "      <td>['L198' 'L199']</td>\n",
       "    </tr>\n",
       "    <tr>\n",
       "      <th>2</th>\n",
       "      <td>u0</td>\n",
       "      <td>u2</td>\n",
       "      <td>m0</td>\n",
       "      <td>['L200' 'L201' 'L202' 'L203']</td>\n",
       "    </tr>\n",
       "    <tr>\n",
       "      <th>3</th>\n",
       "      <td>u0</td>\n",
       "      <td>u2</td>\n",
       "      <td>m0</td>\n",
       "      <td>['L204' 'L205' 'L206']</td>\n",
       "    </tr>\n",
       "    <tr>\n",
       "      <th>4</th>\n",
       "      <td>u0</td>\n",
       "      <td>u2</td>\n",
       "      <td>m0</td>\n",
       "      <td>['L207' 'L208']</td>\n",
       "    </tr>\n",
       "  </tbody>\n",
       "</table>\n",
       "</div>"
      ],
      "text/plain": [
       "  characterID characterID movieID                list utterances\n",
       "0          u0          u2      m0  ['L194' 'L195' 'L196' 'L197']\n",
       "1          u0          u2      m0                ['L198' 'L199']\n",
       "2          u0          u2      m0  ['L200' 'L201' 'L202' 'L203']\n",
       "3          u0          u2      m0         ['L204' 'L205' 'L206']\n",
       "4          u0          u2      m0                ['L207' 'L208']"
      ]
     },
     "execution_count": 32,
     "metadata": {},
     "output_type": "execute_result"
    }
   ],
   "source": [
    "# we are giving the column name for the above mentioned dataset\n",
    "Conversation.columns=['characterID','characterID','movieID','list utterances']\n",
    "Conversation.head()"
   ]
  },
  {
   "cell_type": "markdown",
   "metadata": {},
   "source": [
    "Did you notice something???\n",
    "\n",
    "this table doesnt have anything useful about conversation\n",
    "\n",
    "**what do we do now**\n",
    "\n",
    "Answer is simple \n",
    "\n",
    "**remove**"
   ]
  },
  {
   "cell_type": "markdown",
   "metadata": {},
   "source": [
    "Now we have 3 Table but its useful only once we group it together"
   ]
  },
  {
   "cell_type": "markdown",
   "metadata": {},
   "source": [
    "Why do we merge them will be you question??"
   ]
  },
  {
   "cell_type": "markdown",
   "metadata": {},
   "source": [
    "In order to know the climate of a city we need to have knowledge about \n",
    "- geography (place)\n",
    "- temperatur(math)\n",
    "- history about previous climate condition(history)"
   ]
  },
  {
   "cell_type": "markdown",
   "metadata": {},
   "source": [
    "Similarly all the tables(data) combine together to provide information"
   ]
  },
  {
   "cell_type": "markdown",
   "metadata": {},
   "source": [
    "How to we merge them ???\n",
    "using pandas again \n",
    "\n",
    "we make use of pd.merge function"
   ]
  },
  {
   "cell_type": "code",
   "execution_count": 33,
   "metadata": {},
   "outputs": [
    {
     "data": {
      "text/html": [
       "<div>\n",
       "<style scoped>\n",
       "    .dataframe tbody tr th:only-of-type {\n",
       "        vertical-align: middle;\n",
       "    }\n",
       "\n",
       "    .dataframe tbody tr th {\n",
       "        vertical-align: top;\n",
       "    }\n",
       "\n",
       "    .dataframe thead th {\n",
       "        text-align: right;\n",
       "    }\n",
       "</style>\n",
       "<table border=\"1\" class=\"dataframe\">\n",
       "  <thead>\n",
       "    <tr style=\"text-align: right;\">\n",
       "      <th></th>\n",
       "      <th>lineID</th>\n",
       "      <th>characterID</th>\n",
       "      <th>movieID</th>\n",
       "      <th>character_name</th>\n",
       "      <th>text_utterance</th>\n",
       "      <th>movie_title</th>\n",
       "      <th>gender</th>\n",
       "      <th>credit</th>\n",
       "    </tr>\n",
       "  </thead>\n",
       "  <tbody>\n",
       "    <tr>\n",
       "      <th>0</th>\n",
       "      <td>L1045</td>\n",
       "      <td>u0</td>\n",
       "      <td>m0</td>\n",
       "      <td>BIANCA</td>\n",
       "      <td>They do not!</td>\n",
       "      <td>10 things i hate about you</td>\n",
       "      <td>1</td>\n",
       "      <td>4</td>\n",
       "    </tr>\n",
       "    <tr>\n",
       "      <th>1</th>\n",
       "      <td>L985</td>\n",
       "      <td>u0</td>\n",
       "      <td>m0</td>\n",
       "      <td>BIANCA</td>\n",
       "      <td>I hope so.</td>\n",
       "      <td>10 things i hate about you</td>\n",
       "      <td>1</td>\n",
       "      <td>4</td>\n",
       "    </tr>\n",
       "    <tr>\n",
       "      <th>2</th>\n",
       "      <td>L925</td>\n",
       "      <td>u0</td>\n",
       "      <td>m0</td>\n",
       "      <td>BIANCA</td>\n",
       "      <td>Let's go.</td>\n",
       "      <td>10 things i hate about you</td>\n",
       "      <td>1</td>\n",
       "      <td>4</td>\n",
       "    </tr>\n",
       "    <tr>\n",
       "      <th>3</th>\n",
       "      <td>L872</td>\n",
       "      <td>u0</td>\n",
       "      <td>m0</td>\n",
       "      <td>BIANCA</td>\n",
       "      <td>Okay -- you're gonna need to learn how to lie.</td>\n",
       "      <td>10 things i hate about you</td>\n",
       "      <td>1</td>\n",
       "      <td>4</td>\n",
       "    </tr>\n",
       "    <tr>\n",
       "      <th>4</th>\n",
       "      <td>L869</td>\n",
       "      <td>u0</td>\n",
       "      <td>m0</td>\n",
       "      <td>BIANCA</td>\n",
       "      <td>Like my fear of wearing pastels?</td>\n",
       "      <td>10 things i hate about you</td>\n",
       "      <td>1</td>\n",
       "      <td>4</td>\n",
       "    </tr>\n",
       "  </tbody>\n",
       "</table>\n",
       "</div>"
      ],
      "text/plain": [
       "  lineID characterID movieID character_name  \\\n",
       "0  L1045          u0      m0         BIANCA   \n",
       "1   L985          u0      m0         BIANCA   \n",
       "2   L925          u0      m0         BIANCA   \n",
       "3   L872          u0      m0         BIANCA   \n",
       "4   L869          u0      m0         BIANCA   \n",
       "\n",
       "                                   text_utterance                 movie_title  \\\n",
       "0                                    They do not!  10 things i hate about you   \n",
       "1                                      I hope so.  10 things i hate about you   \n",
       "2                                       Let's go.  10 things i hate about you   \n",
       "3  Okay -- you're gonna need to learn how to lie.  10 things i hate about you   \n",
       "4                Like my fear of wearing pastels?  10 things i hate about you   \n",
       "\n",
       "   gender credit  \n",
       "0       1      4  \n",
       "1       1      4  \n",
       "2       1      4  \n",
       "3       1      4  \n",
       "4       1      4  "
      ]
     },
     "execution_count": 33,
     "metadata": {},
     "output_type": "execute_result"
    }
   ],
   "source": [
    "char_line = pd.merge(lines, character, how='inner', on=['characterID','movieID', 'character_name'])\n",
    "char_line.head()"
   ]
  },
  {
   "cell_type": "markdown",
   "metadata": {},
   "source": [
    "Here we are telling pandas to merge on basis of inner join using the key as movie ID "
   ]
  },
  {
   "cell_type": "markdown",
   "metadata": {},
   "source": [
    "What is INNER JOIN maybe a question which may raise in you mind "
   ]
  },
  {
   "cell_type": "markdown",
   "metadata": {},
   "source": [
    "Inner join is the most common type of join you’ll be working with. It returns a dataframe with only those rows that have common characteristics.\n",
    "\n",
    "An inner join requires each row in the two joined dataframes to have matching column values. This is similar to the intersection of two sets"
   ]
  },
  {
   "attachments": {
    "jip14.webp": {
     "image/webp": "[encoded data removed]"
    }
   },
   "cell_type": "markdown",
   "metadata": {},
   "source": [
    "![jip14.webp](attachment:jip14.webp)"
   ]
  },
  {
   "cell_type": "markdown",
   "metadata": {},
   "source": [
    "Lets check the shape of char line"
   ]
  },
  {
   "cell_type": "code",
   "execution_count": 34,
   "metadata": {},
   "outputs": [
    {
     "data": {
      "text/plain": [
       "(229309, 8)"
      ]
     },
     "execution_count": 34,
     "metadata": {},
     "output_type": "execute_result"
    }
   ],
   "source": [
    "char_line.shape"
   ]
  },
  {
   "cell_type": "markdown",
   "metadata": {},
   "source": [
    "Are you curious to check if there is any NULL values??\n"
   ]
  },
  {
   "cell_type": "code",
   "execution_count": 37,
   "metadata": {},
   "outputs": [
    {
     "data": {
      "text/plain": [
       "203"
      ]
     },
     "execution_count": 37,
     "metadata": {},
     "output_type": "execute_result"
    }
   ],
   "source": [
    "char_line.text_utterance.isnull().sum()"
   ]
  },
  {
   "cell_type": "markdown",
   "metadata": {},
   "source": [
    "there are 203 values what do we do now \n",
    "\n",
    "REMOVE!!!"
   ]
  },
  {
   "cell_type": "code",
   "execution_count": 39,
   "metadata": {},
   "outputs": [
    {
     "data": {
      "text/plain": [
       "(229106, 8)"
      ]
     },
     "execution_count": 39,
     "metadata": {},
     "output_type": "execute_result"
    }
   ],
   "source": [
    "char_line = char_line[char_line['text_utterance'].notnull()]\n",
    "char_line.shape"
   ]
  },
  {
   "cell_type": "markdown",
   "metadata": {},
   "source": [
    "we have reduced the 229309 to 229106 thats preprocessing if you remmebered"
   ]
  },
  {
   "cell_type": "code",
   "execution_count": 42,
   "metadata": {},
   "outputs": [
    {
     "data": {
      "text/plain": [
       "0"
      ]
     },
     "execution_count": 42,
     "metadata": {},
     "output_type": "execute_result"
    }
   ],
   "source": [
    "char_line.text_utterance.isnull().sum()"
   ]
  },
  {
   "cell_type": "markdown",
   "metadata": {},
   "source": [
    "No NuLL Values Hurray"
   ]
  },
  {
   "cell_type": "markdown",
   "metadata": {},
   "source": [
    "Lets merge one more table using same concept of innerjoin"
   ]
  },
  {
   "cell_type": "code",
   "execution_count": 43,
   "metadata": {},
   "outputs": [
    {
     "data": {
      "text/html": [
       "<div>\n",
       "<style scoped>\n",
       "    .dataframe tbody tr th:only-of-type {\n",
       "        vertical-align: middle;\n",
       "    }\n",
       "\n",
       "    .dataframe tbody tr th {\n",
       "        vertical-align: top;\n",
       "    }\n",
       "\n",
       "    .dataframe thead th {\n",
       "        text-align: right;\n",
       "    }\n",
       "</style>\n",
       "<table border=\"1\" class=\"dataframe\">\n",
       "  <thead>\n",
       "    <tr style=\"text-align: right;\">\n",
       "      <th></th>\n",
       "      <th>lineID</th>\n",
       "      <th>characterID</th>\n",
       "      <th>movieID</th>\n",
       "      <th>character_name</th>\n",
       "      <th>text_utterance</th>\n",
       "      <th>movie_title</th>\n",
       "      <th>gender</th>\n",
       "      <th>credit</th>\n",
       "      <th>year</th>\n",
       "    </tr>\n",
       "  </thead>\n",
       "  <tbody>\n",
       "    <tr>\n",
       "      <th>0</th>\n",
       "      <td>L1045</td>\n",
       "      <td>u0</td>\n",
       "      <td>m0</td>\n",
       "      <td>BIANCA</td>\n",
       "      <td>They do not!</td>\n",
       "      <td>10 things i hate about you</td>\n",
       "      <td>1</td>\n",
       "      <td>4</td>\n",
       "      <td>1999</td>\n",
       "    </tr>\n",
       "    <tr>\n",
       "      <th>1</th>\n",
       "      <td>L985</td>\n",
       "      <td>u0</td>\n",
       "      <td>m0</td>\n",
       "      <td>BIANCA</td>\n",
       "      <td>I hope so.</td>\n",
       "      <td>10 things i hate about you</td>\n",
       "      <td>1</td>\n",
       "      <td>4</td>\n",
       "      <td>1999</td>\n",
       "    </tr>\n",
       "    <tr>\n",
       "      <th>2</th>\n",
       "      <td>L925</td>\n",
       "      <td>u0</td>\n",
       "      <td>m0</td>\n",
       "      <td>BIANCA</td>\n",
       "      <td>Let's go.</td>\n",
       "      <td>10 things i hate about you</td>\n",
       "      <td>1</td>\n",
       "      <td>4</td>\n",
       "      <td>1999</td>\n",
       "    </tr>\n",
       "    <tr>\n",
       "      <th>3</th>\n",
       "      <td>L872</td>\n",
       "      <td>u0</td>\n",
       "      <td>m0</td>\n",
       "      <td>BIANCA</td>\n",
       "      <td>Okay -- you're gonna need to learn how to lie.</td>\n",
       "      <td>10 things i hate about you</td>\n",
       "      <td>1</td>\n",
       "      <td>4</td>\n",
       "      <td>1999</td>\n",
       "    </tr>\n",
       "    <tr>\n",
       "      <th>4</th>\n",
       "      <td>L869</td>\n",
       "      <td>u0</td>\n",
       "      <td>m0</td>\n",
       "      <td>BIANCA</td>\n",
       "      <td>Like my fear of wearing pastels?</td>\n",
       "      <td>10 things i hate about you</td>\n",
       "      <td>1</td>\n",
       "      <td>4</td>\n",
       "      <td>1999</td>\n",
       "    </tr>\n",
       "  </tbody>\n",
       "</table>\n",
       "</div>"
      ],
      "text/plain": [
       "  lineID characterID movieID character_name  \\\n",
       "0  L1045          u0      m0         BIANCA   \n",
       "1   L985          u0      m0         BIANCA   \n",
       "2   L925          u0      m0         BIANCA   \n",
       "3   L872          u0      m0         BIANCA   \n",
       "4   L869          u0      m0         BIANCA   \n",
       "\n",
       "                                   text_utterance                 movie_title  \\\n",
       "0                                    They do not!  10 things i hate about you   \n",
       "1                                      I hope so.  10 things i hate about you   \n",
       "2                                       Let's go.  10 things i hate about you   \n",
       "3  Okay -- you're gonna need to learn how to lie.  10 things i hate about you   \n",
       "4                Like my fear of wearing pastels?  10 things i hate about you   \n",
       "\n",
       "   gender credit  year  \n",
       "0       1      4  1999  \n",
       "1       1      4  1999  \n",
       "2       1      4  1999  \n",
       "3       1      4  1999  \n",
       "4       1      4  1999  "
      ]
     },
     "execution_count": 43,
     "metadata": {},
     "output_type": "execute_result"
    }
   ],
   "source": [
    "# Now we are merging the dataset (merged data char_line and title) together using the parameter merge of pandas\n",
    "df= pd.merge(char_line, title, how='inner', on=['movieID','movie_title'],left_index=False, right_index=False, sort=True,\n",
    "         copy=False, indicator=False)\n",
    "df.head()"
   ]
  },
  {
   "cell_type": "code",
   "execution_count": 44,
   "metadata": {},
   "outputs": [
    {
     "data": {
      "text/plain": [
       "(229106, 9)"
      ]
     },
     "execution_count": 44,
     "metadata": {},
     "output_type": "execute_result"
    }
   ],
   "source": [
    "# Here we are checking for the shape of the dataset\n",
    "df.shape"
   ]
  },
  {
   "cell_type": "markdown",
   "metadata": {},
   "source": [
    "Now we have 229106 rows of data with 9 columns "
   ]
  },
  {
   "cell_type": "markdown",
   "metadata": {},
   "source": [
    "--------------------------------------------------------------------------------------------------------------------------------"
   ]
  },
  {
   "cell_type": "markdown",
   "metadata": {},
   "source": [
    "Once the data is prepared we need to do feature engineering "
   ]
  },
  {
   "cell_type": "markdown",
   "metadata": {},
   "source": [
    "you maybe wondering whats feature engineering means\n",
    "\n",
    "Picking useful columns using few techniques other than common sense lets dive deep into it "
   ]
  },
  {
   "cell_type": "markdown",
   "metadata": {},
   "source": [
    "## Feature Engineering"
   ]
  },
  {
   "cell_type": "markdown",
   "metadata": {},
   "source": [
    "Once we have the dataframe with us its important to extract the relevant information from the dataset. This can be achieved using:\n",
    "\n",
    "- Remove the stopwords (This are the words which are used often which are not useful eg. is, I, the, are etc.)\n",
    "- Convert all the words into smaller case words (eg. Inform ->inform)\n",
    "- Lemmatization and stemming (Its an approach to produce root form of words (eg. word=[\"program\", \"programs\", \"programmer\", \"programming\"]))\n"
   ]
  },
  {
   "cell_type": "code",
   "execution_count": 49,
   "metadata": {},
   "outputs": [],
   "source": [
    "# libraries for preprocessing\n",
    "import re\n",
    "from nltk.corpus import stopwords\n",
    "from nltk.stem import WordNetLemmatizer\n",
    "from nltk.stem.wordnet import WordNetLemmatizer\n",
    "from wordcloud import WordCloud"
   ]
  },
  {
   "cell_type": "code",
   "execution_count": null,
   "metadata": {},
   "outputs": [],
   "source": [
    "# import nltk\n",
    "# nltk.download('stopwords')\n",
    "# nltk.download('wordnet')"
   ]
  },
  {
   "cell_type": "markdown",
   "metadata": {},
   "source": [
    "To extract the information from the table we are using nltk module\n",
    "\n",
    "You must be wondering what is nltk???\n",
    "\n",
    "NLTK is a Python library used for human natural language processing (NLP).\n",
    "\n",
    "Now you must be wondering what is NLP ???\n",
    "\n",
    "Its a technique that helps machine to learn the human-made languages like English\n",
    "\n",
    "Dont you think this might help reduce the time to perform task??\n"
   ]
  },
  {
   "cell_type": "code",
   "execution_count": 50,
   "metadata": {},
   "outputs": [],
   "source": [
    "wordnet_lemmatizer = WordNetLemmatizer()\n",
    "def clean_dialogue(text_utterance):\n",
    "    \"\"\"\n",
    "    Function to convert a raw review to a string of words\n",
    "    The input is a single string (a raw movie review), and the output is a single string (a preprocessed movie review)\n",
    "    1. Remove HTML\n",
    "    2. Remove non-letters\n",
    "    \"\"\"  \n",
    "    letters_only = re.sub(\"[^a-zA-Z]\", \" \", text_utterance) \n",
    "    #\n",
    "    # 3. Convert to lower case, split into individual words\n",
    "    words = letters_only.lower().split()                             \n",
    "    #\n",
    "    # 4. In Python, searching a set is much faster than searching a list, so convert the stop words to a set\n",
    "    stops = set(stopwords.words(\"english\"))   \n",
    "    \n",
    "    # 5. Use lemmatization and remove stop words\n",
    "    meaningful_words = [wordnet_lemmatizer.lemmatize(w) for w in words if not w in stops]   \n",
    "    #\n",
    "    # 6. Join the words back into one string separated by space and return the result.\n",
    "    return( \" \".join( meaningful_words ))  \n",
    "df['cleaned_dialogue'] = df['text_utterance'].apply(clean_dialogue)"
   ]
  },
  {
   "cell_type": "markdown",
   "metadata": {},
   "source": [
    "In the above code cell, we are  removing non-letters (i.e. numbers and symbols) and then converting the words into lower case. Later we are removing the stop words and applying lemmatization function to use only the root forms of the word\n",
    "\n",
    "Now you must be thinking what is root form of words???\n",
    "\n",
    "Root words are the words that can form the basis of new words through the addition of prefixes and suffixes (eg. \"program\", \"programs\", \"programmer\")\n",
    "\n",
    "There is another new word **stop words**??\n",
    "\n",
    "This are the words which are most oftenly used which dont add value to the machine learning models (eg. I, the, are, have, etc)"
   ]
  },
  {
   "cell_type": "code",
   "execution_count": 51,
   "metadata": {},
   "outputs": [
    {
     "data": {
      "text/html": [
       "<div>\n",
       "<style scoped>\n",
       "    .dataframe tbody tr th:only-of-type {\n",
       "        vertical-align: middle;\n",
       "    }\n",
       "\n",
       "    .dataframe tbody tr th {\n",
       "        vertical-align: top;\n",
       "    }\n",
       "\n",
       "    .dataframe thead th {\n",
       "        text-align: right;\n",
       "    }\n",
       "</style>\n",
       "<table border=\"1\" class=\"dataframe\">\n",
       "  <thead>\n",
       "    <tr style=\"text-align: right;\">\n",
       "      <th></th>\n",
       "      <th>text_utterance</th>\n",
       "      <th>cleaned_dialogue</th>\n",
       "    </tr>\n",
       "  </thead>\n",
       "  <tbody>\n",
       "    <tr>\n",
       "      <th>0</th>\n",
       "      <td>They do not!</td>\n",
       "      <td></td>\n",
       "    </tr>\n",
       "    <tr>\n",
       "      <th>1</th>\n",
       "      <td>I hope so.</td>\n",
       "      <td>hope</td>\n",
       "    </tr>\n",
       "    <tr>\n",
       "      <th>2</th>\n",
       "      <td>Let's go.</td>\n",
       "      <td>let go</td>\n",
       "    </tr>\n",
       "    <tr>\n",
       "      <th>3</th>\n",
       "      <td>Okay -- you're gonna need to learn how to lie.</td>\n",
       "      <td>okay gonna need learn lie</td>\n",
       "    </tr>\n",
       "    <tr>\n",
       "      <th>4</th>\n",
       "      <td>Like my fear of wearing pastels?</td>\n",
       "      <td>like fear wearing pastel</td>\n",
       "    </tr>\n",
       "  </tbody>\n",
       "</table>\n",
       "</div>"
      ],
      "text/plain": [
       "                                   text_utterance           cleaned_dialogue\n",
       "0                                    They do not!                           \n",
       "1                                      I hope so.                       hope\n",
       "2                                       Let's go.                     let go\n",
       "3  Okay -- you're gonna need to learn how to lie.  okay gonna need learn lie\n",
       "4                Like my fear of wearing pastels?   like fear wearing pastel"
      ]
     },
     "execution_count": 51,
     "metadata": {},
     "output_type": "execute_result"
    }
   ],
   "source": [
    "df[['text_utterance','cleaned_dialogue']].head()"
   ]
  },
  {
   "cell_type": "markdown",
   "metadata": {},
   "source": [
    "From the above code cell, we get the cleaned data "
   ]
  },
  {
   "cell_type": "code",
   "execution_count": 52,
   "metadata": {},
   "outputs": [
    {
     "data": {
      "text/html": [
       "<div>\n",
       "<style scoped>\n",
       "    .dataframe tbody tr th:only-of-type {\n",
       "        vertical-align: middle;\n",
       "    }\n",
       "\n",
       "    .dataframe tbody tr th {\n",
       "        vertical-align: top;\n",
       "    }\n",
       "\n",
       "    .dataframe thead th {\n",
       "        text-align: right;\n",
       "    }\n",
       "</style>\n",
       "<table border=\"1\" class=\"dataframe\">\n",
       "  <thead>\n",
       "    <tr style=\"text-align: right;\">\n",
       "      <th></th>\n",
       "      <th>lineID</th>\n",
       "      <th>characterID</th>\n",
       "      <th>movieID</th>\n",
       "      <th>character_name</th>\n",
       "      <th>text_utterance</th>\n",
       "      <th>movie_title</th>\n",
       "      <th>gender</th>\n",
       "      <th>credit</th>\n",
       "      <th>year</th>\n",
       "      <th>cleaned_dialogue</th>\n",
       "    </tr>\n",
       "  </thead>\n",
       "  <tbody>\n",
       "    <tr>\n",
       "      <th>0</th>\n",
       "      <td>L1045</td>\n",
       "      <td>u0</td>\n",
       "      <td>m0</td>\n",
       "      <td>BIANCA</td>\n",
       "      <td>They do not!</td>\n",
       "      <td>10 things i hate about you</td>\n",
       "      <td>1</td>\n",
       "      <td>4</td>\n",
       "      <td>1999</td>\n",
       "      <td></td>\n",
       "    </tr>\n",
       "    <tr>\n",
       "      <th>1</th>\n",
       "      <td>L985</td>\n",
       "      <td>u0</td>\n",
       "      <td>m0</td>\n",
       "      <td>BIANCA</td>\n",
       "      <td>I hope so.</td>\n",
       "      <td>10 things i hate about you</td>\n",
       "      <td>1</td>\n",
       "      <td>4</td>\n",
       "      <td>1999</td>\n",
       "      <td>hope</td>\n",
       "    </tr>\n",
       "    <tr>\n",
       "      <th>2</th>\n",
       "      <td>L925</td>\n",
       "      <td>u0</td>\n",
       "      <td>m0</td>\n",
       "      <td>BIANCA</td>\n",
       "      <td>Let's go.</td>\n",
       "      <td>10 things i hate about you</td>\n",
       "      <td>1</td>\n",
       "      <td>4</td>\n",
       "      <td>1999</td>\n",
       "      <td>let go</td>\n",
       "    </tr>\n",
       "    <tr>\n",
       "      <th>3</th>\n",
       "      <td>L872</td>\n",
       "      <td>u0</td>\n",
       "      <td>m0</td>\n",
       "      <td>BIANCA</td>\n",
       "      <td>Okay -- you're gonna need to learn how to lie.</td>\n",
       "      <td>10 things i hate about you</td>\n",
       "      <td>1</td>\n",
       "      <td>4</td>\n",
       "      <td>1999</td>\n",
       "      <td>okay gonna need learn lie</td>\n",
       "    </tr>\n",
       "    <tr>\n",
       "      <th>4</th>\n",
       "      <td>L869</td>\n",
       "      <td>u0</td>\n",
       "      <td>m0</td>\n",
       "      <td>BIANCA</td>\n",
       "      <td>Like my fear of wearing pastels?</td>\n",
       "      <td>10 things i hate about you</td>\n",
       "      <td>1</td>\n",
       "      <td>4</td>\n",
       "      <td>1999</td>\n",
       "      <td>like fear wearing pastel</td>\n",
       "    </tr>\n",
       "  </tbody>\n",
       "</table>\n",
       "</div>"
      ],
      "text/plain": [
       "  lineID characterID movieID character_name  \\\n",
       "0  L1045          u0      m0         BIANCA   \n",
       "1   L985          u0      m0         BIANCA   \n",
       "2   L925          u0      m0         BIANCA   \n",
       "3   L872          u0      m0         BIANCA   \n",
       "4   L869          u0      m0         BIANCA   \n",
       "\n",
       "                                   text_utterance                 movie_title  \\\n",
       "0                                    They do not!  10 things i hate about you   \n",
       "1                                      I hope so.  10 things i hate about you   \n",
       "2                                       Let's go.  10 things i hate about you   \n",
       "3  Okay -- you're gonna need to learn how to lie.  10 things i hate about you   \n",
       "4                Like my fear of wearing pastels?  10 things i hate about you   \n",
       "\n",
       "   gender credit  year           cleaned_dialogue  \n",
       "0       1      4  1999                             \n",
       "1       1      4  1999                       hope  \n",
       "2       1      4  1999                     let go  \n",
       "3       1      4  1999  okay gonna need learn lie  \n",
       "4       1      4  1999   like fear wearing pastel  "
      ]
     },
     "execution_count": 52,
     "metadata": {},
     "output_type": "execute_result"
    }
   ],
   "source": [
    "df.head()"
   ]
  },
  {
   "cell_type": "markdown",
   "metadata": {},
   "source": [
    "After we have obtained the cleaned data we have added it to the newly formed table **df** "
   ]
  },
  {
   "cell_type": "code",
   "execution_count": 53,
   "metadata": {},
   "outputs": [
    {
     "data": {
      "text/html": [
       "<div>\n",
       "<style scoped>\n",
       "    .dataframe tbody tr th:only-of-type {\n",
       "        vertical-align: middle;\n",
       "    }\n",
       "\n",
       "    .dataframe tbody tr th {\n",
       "        vertical-align: top;\n",
       "    }\n",
       "\n",
       "    .dataframe thead th {\n",
       "        text-align: right;\n",
       "    }\n",
       "</style>\n",
       "<table border=\"1\" class=\"dataframe\">\n",
       "  <thead>\n",
       "    <tr style=\"text-align: right;\">\n",
       "      <th></th>\n",
       "      <th>characterID</th>\n",
       "      <th>movieID</th>\n",
       "      <th>character_name</th>\n",
       "      <th>movie_title</th>\n",
       "      <th>gender</th>\n",
       "      <th>credit</th>\n",
       "      <th>year</th>\n",
       "      <th>characterID_count</th>\n",
       "      <th>cleaned_dialogue_&lt;lambda&gt;</th>\n",
       "    </tr>\n",
       "  </thead>\n",
       "  <tbody>\n",
       "    <tr>\n",
       "      <th>0</th>\n",
       "      <td>u0</td>\n",
       "      <td>m0</td>\n",
       "      <td>BIANCA</td>\n",
       "      <td>10 things i hate about you</td>\n",
       "      <td>1</td>\n",
       "      <td>4</td>\n",
       "      <td>1999</td>\n",
       "      <td>94</td>\n",
       "      <td>hope let go okay gonna need learn lie like fe...</td>\n",
       "    </tr>\n",
       "    <tr>\n",
       "      <th>1</th>\n",
       "      <td>u100</td>\n",
       "      <td>m6</td>\n",
       "      <td>AMY</td>\n",
       "      <td>8mm</td>\n",
       "      <td>1</td>\n",
       "      <td>7</td>\n",
       "      <td>1999</td>\n",
       "      <td>31</td>\n",
       "      <td>died sleep three day ago paper tom dead  calli...</td>\n",
       "    </tr>\n",
       "    <tr>\n",
       "      <th>2</th>\n",
       "      <td>u1003</td>\n",
       "      <td>m65</td>\n",
       "      <td>RICHARD</td>\n",
       "      <td>from dusk till dawn</td>\n",
       "      <td>0</td>\n",
       "      <td>3</td>\n",
       "      <td>1996</td>\n",
       "      <td>70</td>\n",
       "      <td>asked would said room room serious foolin arou...</td>\n",
       "    </tr>\n",
       "    <tr>\n",
       "      <th>3</th>\n",
       "      <td>u1005</td>\n",
       "      <td>m65</td>\n",
       "      <td>SETH</td>\n",
       "      <td>from dusk till dawn</td>\n",
       "      <td>0</td>\n",
       "      <td>2</td>\n",
       "      <td>1996</td>\n",
       "      <td>163</td>\n",
       "      <td>let follow said new jesus christ carlos brothe...</td>\n",
       "    </tr>\n",
       "    <tr>\n",
       "      <th>4</th>\n",
       "      <td>u1008</td>\n",
       "      <td>m66</td>\n",
       "      <td>C.O.</td>\n",
       "      <td>g.i. jane</td>\n",
       "      <td>0</td>\n",
       "      <td>10+</td>\n",
       "      <td>1997</td>\n",
       "      <td>33</td>\n",
       "      <td>course uh v p security arrangement generally t...</td>\n",
       "    </tr>\n",
       "  </tbody>\n",
       "</table>\n",
       "</div>"
      ],
      "text/plain": [
       "  characterID movieID character_name                 movie_title  gender  \\\n",
       "0          u0      m0         BIANCA  10 things i hate about you       1   \n",
       "1        u100      m6            AMY                         8mm       1   \n",
       "2       u1003     m65        RICHARD         from dusk till dawn       0   \n",
       "3       u1005     m65           SETH         from dusk till dawn       0   \n",
       "4       u1008     m66           C.O.                   g.i. jane       0   \n",
       "\n",
       "  credit  year  characterID_count  \\\n",
       "0      4  1999                 94   \n",
       "1      7  1999                 31   \n",
       "2      3  1996                 70   \n",
       "3      2  1996                163   \n",
       "4    10+  1997                 33   \n",
       "\n",
       "                           cleaned_dialogue_<lambda>  \n",
       "0   hope let go okay gonna need learn lie like fe...  \n",
       "1  died sleep three day ago paper tom dead  calli...  \n",
       "2  asked would said room room serious foolin arou...  \n",
       "3  let follow said new jesus christ carlos brothe...  \n",
       "4  course uh v p security arrangement generally t...  "
      ]
     },
     "execution_count": 53,
     "metadata": {},
     "output_type": "execute_result"
    }
   ],
   "source": [
    "train=df.groupby(['characterID','movieID','character_name','movie_title','gender','credit','year']).\\\n",
    "            agg({'characterID' : ['count'], \n",
    "                 'cleaned_dialogue' : [lambda x : ' '.join(x)]})\n",
    "\n",
    "\n",
    "# Renaming the columns by aggregate functions\n",
    "train.columns = [\"_\".join(x) for x in train.columns.ravel()]\n",
    "train.reset_index(inplace=True)\n",
    "train.head()"
   ]
  },
  {
   "cell_type": "markdown",
   "metadata": {},
   "source": [
    "Now let us consider the columns which are helpful with detecting the gender. \n",
    "\n",
    "This can be done using .groupby() function followed by aggregate which gives us the numerical values for characterID and cleaned dialogues\n",
    "\n",
    "You must be wondering what is groupby() function???\n",
    "\n",
    "Its a pandas function which is used to split the data into group based on some criteria.\n",
    "\n",
    "Now you must be wondering what is aggregate functions???\n",
    "\n",
    "Its a function used to apply some aggregation across one or more column. Aggregate using string, dict, or list of string. "
   ]
  },
  {
   "cell_type": "markdown",
   "metadata": {},
   "source": [
    "Now let us check some feature distributions by gender using **data visualization**\n",
    "\n",
    "Are you curious to know what is data visualization???\n",
    "\n",
    "\n",
    "Data visualization deals with the graphic representation of data.\n",
    "\n",
    "For data visualization let us use the seaborn module. Its data visualization library based on matplotlib. which can be installed using *pip install seaborn*. "
   ]
  },
  {
   "cell_type": "code",
   "execution_count": 55,
   "metadata": {},
   "outputs": [],
   "source": [
    "import seaborn as sns"
   ]
  },
  {
   "cell_type": "code",
   "execution_count": 56,
   "metadata": {},
   "outputs": [
    {
     "data": {
      "text/plain": [
       "<matplotlib.axes._subplots.AxesSubplot at 0x23dd419fa20>"
      ]
     },
     "execution_count": 56,
     "metadata": {},
     "output_type": "execute_result"
    },
    {
     "data": {
      "image/png": "[encoded data removed]",
      "text/plain": [
       "<Figure size 432x288 with 1 Axes>"
      ]
     },
     "metadata": {},
     "output_type": "display_data"
    }
   ],
   "source": [
    "sns.boxplot(data = train, x = 'gender', y = 'characterID_count', hue = 'gender')"
   ]
  },
  {
   "cell_type": "markdown",
   "metadata": {},
   "source": [
    "By looking at the above code cell, are you must be wondering what is **boxplot**?\n",
    "\n",
    "Its one of the basic plot used to visualize distributions but useful when you want to compare data between two groups. Boxplot is also known as a box-and-whisker plot. The box shows the quartiles of dataset and whiskers extend to show rest of the distribution."
   ]
  },
  {
   "cell_type": "markdown",
   "metadata": {},
   "source": [
    "----------------------------------------------------------------------------------------------------------------------------"
   ]
  },
  {
   "cell_type": "markdown",
   "metadata": {},
   "source": [
    "## Classification"
   ]
  },
  {
   "cell_type": "markdown",
   "metadata": {},
   "source": [
    "Once we have seen how data preprocessing and data visualization works lets jump into the classification and evaluate the performance of the model. \n",
    "\n",
    "Firstly let us process the data to be unbiased data. For this we can split the dataset into train and test sets and also perform cross-validation.\n",
    "\n",
    "the are going to use  train_test_split() of scikit-learn. \n",
    "\n",
    "Lets split the data into train_test split (train, test and validation set).\n",
    "\n",
    "You must be curious what is **train_test split** ???\n",
    "\n",
    "This is a subset that minimize the potential for bias in your evaluation and validation process. For that purpose, we are spliting the dataset into training set (around 70 to 90% of the data) and test set (10 to 30%) using the library **sklearn**, we use train_test_split function from sklearn.model_selection."
   ]
  },
  {
   "cell_type": "code",
   "execution_count": 58,
   "metadata": {},
   "outputs": [
    {
     "data": {
      "text/plain": [
       "Index(['characterID', 'movieID', 'character_name', 'movie_title', 'gender',\n",
       "       'credit', 'year', 'characterID_count', 'cleaned_dialogue_<lambda>'],\n",
       "      dtype='object')"
      ]
     },
     "execution_count": 58,
     "metadata": {},
     "output_type": "execute_result"
    }
   ],
   "source": [
    "train.columns"
   ]
  },
  {
   "cell_type": "code",
   "execution_count": 83,
   "metadata": {},
   "outputs": [
    {
     "data": {
      "text/plain": [
       "(2951, 9)"
      ]
     },
     "execution_count": 83,
     "metadata": {},
     "output_type": "execute_result"
    }
   ],
   "source": [
    "train.shape"
   ]
  },
  {
   "cell_type": "code",
   "execution_count": 82,
   "metadata": {},
   "outputs": [
    {
     "data": {
      "text/html": [
       "<div>\n",
       "<style scoped>\n",
       "    .dataframe tbody tr th:only-of-type {\n",
       "        vertical-align: middle;\n",
       "    }\n",
       "\n",
       "    .dataframe tbody tr th {\n",
       "        vertical-align: top;\n",
       "    }\n",
       "\n",
       "    .dataframe thead th {\n",
       "        text-align: right;\n",
       "    }\n",
       "</style>\n",
       "<table border=\"1\" class=\"dataframe\">\n",
       "  <thead>\n",
       "    <tr style=\"text-align: right;\">\n",
       "      <th></th>\n",
       "      <th>characterID</th>\n",
       "      <th>movieID</th>\n",
       "      <th>character_name</th>\n",
       "      <th>movie_title</th>\n",
       "      <th>gender</th>\n",
       "      <th>credit</th>\n",
       "      <th>year</th>\n",
       "      <th>characterID_count</th>\n",
       "      <th>cleaned_dialogue_&lt;lambda&gt;</th>\n",
       "    </tr>\n",
       "  </thead>\n",
       "  <tbody>\n",
       "    <tr>\n",
       "      <th>0</th>\n",
       "      <td>u0</td>\n",
       "      <td>m0</td>\n",
       "      <td>BIANCA</td>\n",
       "      <td>10 things i hate about you</td>\n",
       "      <td>1</td>\n",
       "      <td>4</td>\n",
       "      <td>1999</td>\n",
       "      <td>94</td>\n",
       "      <td>hope let go okay gonna need learn lie like fe...</td>\n",
       "    </tr>\n",
       "    <tr>\n",
       "      <th>1</th>\n",
       "      <td>u100</td>\n",
       "      <td>m6</td>\n",
       "      <td>AMY</td>\n",
       "      <td>8mm</td>\n",
       "      <td>1</td>\n",
       "      <td>7</td>\n",
       "      <td>1999</td>\n",
       "      <td>31</td>\n",
       "      <td>died sleep three day ago paper tom dead  calli...</td>\n",
       "    </tr>\n",
       "    <tr>\n",
       "      <th>2</th>\n",
       "      <td>u1003</td>\n",
       "      <td>m65</td>\n",
       "      <td>RICHARD</td>\n",
       "      <td>from dusk till dawn</td>\n",
       "      <td>0</td>\n",
       "      <td>3</td>\n",
       "      <td>1996</td>\n",
       "      <td>70</td>\n",
       "      <td>asked would said room room serious foolin arou...</td>\n",
       "    </tr>\n",
       "    <tr>\n",
       "      <th>3</th>\n",
       "      <td>u1005</td>\n",
       "      <td>m65</td>\n",
       "      <td>SETH</td>\n",
       "      <td>from dusk till dawn</td>\n",
       "      <td>0</td>\n",
       "      <td>2</td>\n",
       "      <td>1996</td>\n",
       "      <td>163</td>\n",
       "      <td>let follow said new jesus christ carlos brothe...</td>\n",
       "    </tr>\n",
       "    <tr>\n",
       "      <th>4</th>\n",
       "      <td>u1008</td>\n",
       "      <td>m66</td>\n",
       "      <td>C.O.</td>\n",
       "      <td>g.i. jane</td>\n",
       "      <td>0</td>\n",
       "      <td>10+</td>\n",
       "      <td>1997</td>\n",
       "      <td>33</td>\n",
       "      <td>course uh v p security arrangement generally t...</td>\n",
       "    </tr>\n",
       "  </tbody>\n",
       "</table>\n",
       "</div>"
      ],
      "text/plain": [
       "  characterID movieID character_name                 movie_title  gender  \\\n",
       "0          u0      m0         BIANCA  10 things i hate about you       1   \n",
       "1        u100      m6            AMY                         8mm       1   \n",
       "2       u1003     m65        RICHARD         from dusk till dawn       0   \n",
       "3       u1005     m65           SETH         from dusk till dawn       0   \n",
       "4       u1008     m66           C.O.                   g.i. jane       0   \n",
       "\n",
       "  credit  year  characterID_count  \\\n",
       "0      4  1999                 94   \n",
       "1      7  1999                 31   \n",
       "2      3  1996                 70   \n",
       "3      2  1996                163   \n",
       "4    10+  1997                 33   \n",
       "\n",
       "                           cleaned_dialogue_<lambda>  \n",
       "0   hope let go okay gonna need learn lie like fe...  \n",
       "1  died sleep three day ago paper tom dead  calli...  \n",
       "2  asked would said room room serious foolin arou...  \n",
       "3  let follow said new jesus christ carlos brothe...  \n",
       "4  course uh v p security arrangement generally t...  "
      ]
     },
     "execution_count": 82,
     "metadata": {},
     "output_type": "execute_result"
    }
   ],
   "source": [
    "train.head()"
   ]
  },
  {
   "cell_type": "markdown",
   "metadata": {},
   "source": [
    "Here we have 2951 rows and 9 columns present in the dataset which we can use to train on the model."
   ]
  },
  {
   "cell_type": "code",
   "execution_count": 59,
   "metadata": {},
   "outputs": [
    {
     "data": {
      "text/plain": [
       "0    1\n",
       "1    1\n",
       "2    0\n",
       "3    0\n",
       "4    0\n",
       "Name: gender, dtype: int64"
      ]
     },
     "execution_count": 59,
     "metadata": {},
     "output_type": "execute_result"
    }
   ],
   "source": [
    "y = train['gender']\n",
    "y.head()"
   ]
  },
  {
   "cell_type": "markdown",
   "metadata": {},
   "source": [
    "Firstly let us split the columns in dtaset to x and y where the table let us use gender in y and rest all the columns in the table x"
   ]
  },
  {
   "cell_type": "code",
   "execution_count": 60,
   "metadata": {},
   "outputs": [
    {
     "data": {
      "text/html": [
       "<div>\n",
       "<style scoped>\n",
       "    .dataframe tbody tr th:only-of-type {\n",
       "        vertical-align: middle;\n",
       "    }\n",
       "\n",
       "    .dataframe tbody tr th {\n",
       "        vertical-align: top;\n",
       "    }\n",
       "\n",
       "    .dataframe thead th {\n",
       "        text-align: right;\n",
       "    }\n",
       "</style>\n",
       "<table border=\"1\" class=\"dataframe\">\n",
       "  <thead>\n",
       "    <tr style=\"text-align: right;\">\n",
       "      <th></th>\n",
       "      <th>characterID</th>\n",
       "      <th>movieID</th>\n",
       "      <th>character_name</th>\n",
       "      <th>movie_title</th>\n",
       "      <th>gender</th>\n",
       "      <th>credit</th>\n",
       "      <th>year</th>\n",
       "      <th>characterID_count</th>\n",
       "      <th>cleaned_dialogue_&lt;lambda&gt;</th>\n",
       "    </tr>\n",
       "  </thead>\n",
       "  <tbody>\n",
       "    <tr>\n",
       "      <th>0</th>\n",
       "      <td>u0</td>\n",
       "      <td>m0</td>\n",
       "      <td>BIANCA</td>\n",
       "      <td>10 things i hate about you</td>\n",
       "      <td>1</td>\n",
       "      <td>4</td>\n",
       "      <td>1999</td>\n",
       "      <td>94</td>\n",
       "      <td>hope let go okay gonna need learn lie like fe...</td>\n",
       "    </tr>\n",
       "    <tr>\n",
       "      <th>1</th>\n",
       "      <td>u100</td>\n",
       "      <td>m6</td>\n",
       "      <td>AMY</td>\n",
       "      <td>8mm</td>\n",
       "      <td>1</td>\n",
       "      <td>7</td>\n",
       "      <td>1999</td>\n",
       "      <td>31</td>\n",
       "      <td>died sleep three day ago paper tom dead  calli...</td>\n",
       "    </tr>\n",
       "    <tr>\n",
       "      <th>2</th>\n",
       "      <td>u1003</td>\n",
       "      <td>m65</td>\n",
       "      <td>RICHARD</td>\n",
       "      <td>from dusk till dawn</td>\n",
       "      <td>0</td>\n",
       "      <td>3</td>\n",
       "      <td>1996</td>\n",
       "      <td>70</td>\n",
       "      <td>asked would said room room serious foolin arou...</td>\n",
       "    </tr>\n",
       "    <tr>\n",
       "      <th>3</th>\n",
       "      <td>u1005</td>\n",
       "      <td>m65</td>\n",
       "      <td>SETH</td>\n",
       "      <td>from dusk till dawn</td>\n",
       "      <td>0</td>\n",
       "      <td>2</td>\n",
       "      <td>1996</td>\n",
       "      <td>163</td>\n",
       "      <td>let follow said new jesus christ carlos brothe...</td>\n",
       "    </tr>\n",
       "    <tr>\n",
       "      <th>4</th>\n",
       "      <td>u1008</td>\n",
       "      <td>m66</td>\n",
       "      <td>C.O.</td>\n",
       "      <td>g.i. jane</td>\n",
       "      <td>0</td>\n",
       "      <td>10+</td>\n",
       "      <td>1997</td>\n",
       "      <td>33</td>\n",
       "      <td>course uh v p security arrangement generally t...</td>\n",
       "    </tr>\n",
       "  </tbody>\n",
       "</table>\n",
       "</div>"
      ],
      "text/plain": [
       "  characterID movieID character_name                 movie_title  gender  \\\n",
       "0          u0      m0         BIANCA  10 things i hate about you       1   \n",
       "1        u100      m6            AMY                         8mm       1   \n",
       "2       u1003     m65        RICHARD         from dusk till dawn       0   \n",
       "3       u1005     m65           SETH         from dusk till dawn       0   \n",
       "4       u1008     m66           C.O.                   g.i. jane       0   \n",
       "\n",
       "  credit  year  characterID_count  \\\n",
       "0      4  1999                 94   \n",
       "1      7  1999                 31   \n",
       "2      3  1996                 70   \n",
       "3      2  1996                163   \n",
       "4    10+  1997                 33   \n",
       "\n",
       "                           cleaned_dialogue_<lambda>  \n",
       "0   hope let go okay gonna need learn lie like fe...  \n",
       "1  died sleep three day ago paper tom dead  calli...  \n",
       "2  asked would said room room serious foolin arou...  \n",
       "3  let follow said new jesus christ carlos brothe...  \n",
       "4  course uh v p security arrangement generally t...  "
      ]
     },
     "execution_count": 60,
     "metadata": {},
     "output_type": "execute_result"
    }
   ],
   "source": [
    "x=train.copy()\n",
    "x.head()"
   ]
  },
  {
   "cell_type": "markdown",
   "metadata": {},
   "source": [
    "Now from the above code cell we know that we only require credit, year, characterID_count, cleaned_dialogue and gender to find wether the dialogue was said by male or female. So let us delete all other columns using drop() function. "
   ]
  },
  {
   "cell_type": "code",
   "execution_count": 61,
   "metadata": {},
   "outputs": [
    {
     "data": {
      "text/html": [
       "<div>\n",
       "<style scoped>\n",
       "    .dataframe tbody tr th:only-of-type {\n",
       "        vertical-align: middle;\n",
       "    }\n",
       "\n",
       "    .dataframe tbody tr th {\n",
       "        vertical-align: top;\n",
       "    }\n",
       "\n",
       "    .dataframe thead th {\n",
       "        text-align: right;\n",
       "    }\n",
       "</style>\n",
       "<table border=\"1\" class=\"dataframe\">\n",
       "  <thead>\n",
       "    <tr style=\"text-align: right;\">\n",
       "      <th></th>\n",
       "      <th>credit</th>\n",
       "      <th>year</th>\n",
       "      <th>characterID_count</th>\n",
       "      <th>cleaned_dialogue_&lt;lambda&gt;</th>\n",
       "    </tr>\n",
       "  </thead>\n",
       "  <tbody>\n",
       "    <tr>\n",
       "      <th>0</th>\n",
       "      <td>4</td>\n",
       "      <td>1999</td>\n",
       "      <td>94</td>\n",
       "      <td>hope let go okay gonna need learn lie like fe...</td>\n",
       "    </tr>\n",
       "    <tr>\n",
       "      <th>1</th>\n",
       "      <td>7</td>\n",
       "      <td>1999</td>\n",
       "      <td>31</td>\n",
       "      <td>died sleep three day ago paper tom dead  calli...</td>\n",
       "    </tr>\n",
       "    <tr>\n",
       "      <th>2</th>\n",
       "      <td>3</td>\n",
       "      <td>1996</td>\n",
       "      <td>70</td>\n",
       "      <td>asked would said room room serious foolin arou...</td>\n",
       "    </tr>\n",
       "    <tr>\n",
       "      <th>3</th>\n",
       "      <td>2</td>\n",
       "      <td>1996</td>\n",
       "      <td>163</td>\n",
       "      <td>let follow said new jesus christ carlos brothe...</td>\n",
       "    </tr>\n",
       "    <tr>\n",
       "      <th>4</th>\n",
       "      <td>10+</td>\n",
       "      <td>1997</td>\n",
       "      <td>33</td>\n",
       "      <td>course uh v p security arrangement generally t...</td>\n",
       "    </tr>\n",
       "  </tbody>\n",
       "</table>\n",
       "</div>"
      ],
      "text/plain": [
       "  credit  year  characterID_count  \\\n",
       "0      4  1999                 94   \n",
       "1      7  1999                 31   \n",
       "2      3  1996                 70   \n",
       "3      2  1996                163   \n",
       "4    10+  1997                 33   \n",
       "\n",
       "                           cleaned_dialogue_<lambda>  \n",
       "0   hope let go okay gonna need learn lie like fe...  \n",
       "1  died sleep three day ago paper tom dead  calli...  \n",
       "2  asked would said room room serious foolin arou...  \n",
       "3  let follow said new jesus christ carlos brothe...  \n",
       "4  course uh v p security arrangement generally t...  "
      ]
     },
     "execution_count": 61,
     "metadata": {},
     "output_type": "execute_result"
    }
   ],
   "source": [
    "x.drop('characterID', axis=1, inplace=True)\n",
    "x.drop('movieID', axis=1, inplace=True)\n",
    "x.drop('character_name', axis=1, inplace=True)\n",
    "x.drop('movie_title', axis=1, inplace=True)\n",
    "x.drop('gender', axis=1, inplace=True)\n",
    "x.head()"
   ]
  },
  {
   "cell_type": "code",
   "execution_count": 63,
   "metadata": {},
   "outputs": [],
   "source": [
    "from sklearn.model_selection import train_test_split\n",
    "\n",
    "X_train, X_val, y_train, y_val = train_test_split(x, y, test_size=0.2, random_state = 10, stratify=y)"
   ]
  },
  {
   "cell_type": "markdown",
   "metadata": {},
   "source": [
    "Your dataset consists of values of both x and y. You then specify the argument test_size=0.2 which means 20% for test data and 80% for the training "
   ]
  },
  {
   "cell_type": "code",
   "execution_count": 64,
   "metadata": {},
   "outputs": [
    {
     "data": {
      "text/plain": [
       "0    401\n",
       "1    190\n",
       "Name: gender, dtype: int64"
      ]
     },
     "execution_count": 64,
     "metadata": {},
     "output_type": "execute_result"
    }
   ],
   "source": [
    "y_val.value_counts()"
   ]
  },
  {
   "cell_type": "code",
   "execution_count": 65,
   "metadata": {},
   "outputs": [
    {
     "data": {
      "text/plain": [
       "(2951, 4)"
      ]
     },
     "execution_count": 65,
     "metadata": {},
     "output_type": "execute_result"
    }
   ],
   "source": [
    "x.shape"
   ]
  },
  {
   "cell_type": "code",
   "execution_count": 66,
   "metadata": {},
   "outputs": [
    {
     "data": {
      "text/plain": [
       "(591, 4)"
      ]
     },
     "execution_count": 66,
     "metadata": {},
     "output_type": "execute_result"
    }
   ],
   "source": [
    "X_val.shape"
   ]
  },
  {
   "cell_type": "markdown",
   "metadata": {},
   "source": [
    "##### Pipeline for classifiers¶\n",
    "Since our dataset includes both numerical features & NLP tokens, we'll use a special converter class in our pipeline."
   ]
  },
  {
   "cell_type": "markdown",
   "metadata": {},
   "source": [
    "By seeing the heading you must be wondering what is pipeline??? \n",
    "\n",
    "this is the process where the final estimator gets to implement fit. For example a phone where the label is the rating of the phone, ranging from 0 to 5 and this does not consists of missing values."
   ]
  },
  {
   "cell_type": "code",
   "execution_count": 67,
   "metadata": {},
   "outputs": [],
   "source": [
    "from sklearn.preprocessing import OneHotEncoder, StandardScaler, MinMaxScaler\n",
    "from sklearn.base import BaseEstimator, TransformerMixin\n",
    "from sklearn.feature_extraction.text import TfidfTransformer, CountVectorizer, TfidfVectorizer\n",
    "from sklearn.pipeline import FeatureUnion, Pipeline\n",
    "\n",
    "class Converter(BaseEstimator, TransformerMixin):\n",
    "    ## Source : https://www.kaggle.com/tylersullivan/classifying-phishing-urls-three-models\n",
    "    def fit(self, x, y=None):\n",
    "        return self\n",
    "\n",
    "    def transform(self, data_frame):\n",
    "        return data_frame.values.ravel()"
   ]
  },
  {
   "cell_type": "markdown",
   "metadata": {},
   "source": [
    "For the processing of pipeline we are classifying it into \n",
    "- Pipeline for numeric features\n",
    "- Pipeline for  tokens dereived from dialogues"
   ]
  },
  {
   "cell_type": "markdown",
   "metadata": {},
   "source": [
    "1. Pipeline for numeric features"
   ]
  },
  {
   "cell_type": "code",
   "execution_count": 68,
   "metadata": {},
   "outputs": [],
   "source": [
    "numeric_features = ['characterID_count', 'year']\n",
    "\n",
    "numeric_transformer = Pipeline(steps=[('scaler', MinMaxScaler())])"
   ]
  },
  {
   "cell_type": "markdown",
   "metadata": {},
   "source": [
    "2. Pipeline for tokens dereived from dialogues"
   ]
  },
  {
   "cell_type": "code",
   "execution_count": 69,
   "metadata": {},
   "outputs": [],
   "source": [
    "categorical_features = ['credit']\n",
    "categorical_transformer = Pipeline(steps=[('onehot', OneHotEncoder(handle_unknown='ignore'))])"
   ]
  },
  {
   "cell_type": "code",
   "execution_count": 70,
   "metadata": {},
   "outputs": [],
   "source": [
    "vectorizer_features = ['cleaned_dialogue_<lambda>']\n",
    "vectorizer_transformer = Pipeline(steps=[('con', Converter()),('tf', TfidfVectorizer())])"
   ]
  },
  {
   "cell_type": "markdown",
   "metadata": {},
   "source": [
    "Now we have used pipelines to process the data so that we need not get errors has it contains both numerical  as well as string in the table "
   ]
  },
  {
   "cell_type": "markdown",
   "metadata": {},
   "source": [
    "You must be exicited to see the results right???\n",
    "\n",
    "Now let us call classification models to check for the results"
   ]
  },
  {
   "cell_type": "markdown",
   "metadata": {},
   "source": [
    "Some of the models that we have used here are mentioned below: \n",
    "\n",
    "- Logistic Regression Classifier\n",
    "- Naive Bayes Classifier\n",
    "- Random Forest Clasifier"
   ]
  },
  {
   "cell_type": "markdown",
   "metadata": {},
   "source": [
    "There are some of the modules that can be called in our model to get the results on different models.\n",
    "\n",
    "Like we have seen before we know that we can the modules using pip \n",
    "\n",
    "In the below code line we are calling the once that we are using "
   ]
  },
  {
   "cell_type": "code",
   "execution_count": 71,
   "metadata": {},
   "outputs": [],
   "source": [
    "from sklearn.linear_model import LogisticRegression\n",
    "from sklearn.naive_bayes import MultinomialNB\n",
    "from sklearn.ensemble import RandomForestClassifier,BaggingClassifier\n",
    "from sklearn.compose import ColumnTransformer\n",
    "from sklearn.metrics import classification_report, confusion_matrix"
   ]
  },
  {
   "cell_type": "code",
   "execution_count": 72,
   "metadata": {},
   "outputs": [],
   "source": [
    "preprocessor = ColumnTransformer(\n",
    "    transformers=[\n",
    "        ('num', numeric_transformer, numeric_features),\n",
    "        ('cat', categorical_transformer, categorical_features),\n",
    "        ('vec', vectorizer_transformer, vectorizer_features)\n",
    "    ])\n"
   ]
  },
  {
   "cell_type": "markdown",
   "metadata": {},
   "source": [
    "In the above code cell we are calling the functions that was used in pipeline() to avoid the errors that might occur as the table contains both str, numerical values\n",
    "\n",
    "Are you curious to know what happens in classification models??\n"
   ]
  },
  {
   "cell_type": "markdown",
   "metadata": {},
   "source": [
    "Firstly let us fit the classifier and preprocessed pipeline to the models that we are using in the project\n",
    "\n",
    "Are you curious to know how that happens lets see it in the below code cell"
   ]
  },
  {
   "cell_type": "code",
   "execution_count": 73,
   "metadata": {},
   "outputs": [],
   "source": [
    "Logistic_clf = Pipeline(steps=[('preprocessor', preprocessor),('classifier', LogisticRegression())])\n",
    "MultinomialNB_clf = Pipeline(steps=[('preprocessor', preprocessor), ('classifier', MultinomialNB())])\n",
    "RandomForest_clf = Pipeline(steps=[('preprocessor', preprocessor),('classifier', RandomForestClassifier(n_estimators=120, min_samples_leaf=10, max_features=0.7, n_jobs=-1, oob_score=True))])"
   ]
  },
  {
   "cell_type": "markdown",
   "metadata": {},
   "source": [
    "Now once we have fitted them let us split the data into X_train, y_train so that the splitted values can be used \n",
    "let us REPEAT the process again on all the models and see what happens"
   ]
  },
  {
   "cell_type": "code",
   "execution_count": 74,
   "metadata": {},
   "outputs": [
    {
     "data": {
      "text/plain": [
       "Pipeline(steps=[('preprocessor',\n",
       "                 ColumnTransformer(transformers=[('num',\n",
       "                                                  Pipeline(steps=[('scaler',\n",
       "                                                                   MinMaxScaler())]),\n",
       "                                                  ['characterID_count',\n",
       "                                                   'year']),\n",
       "                                                 ('cat',\n",
       "                                                  Pipeline(steps=[('onehot',\n",
       "                                                                   OneHotEncoder(handle_unknown='ignore'))]),\n",
       "                                                  ['credit']),\n",
       "                                                 ('vec',\n",
       "                                                  Pipeline(steps=[('con',\n",
       "                                                                   Converter()),\n",
       "                                                                  ('tf',\n",
       "                                                                   TfidfVectorizer())]),\n",
       "                                                  ['cleaned_dialogue_<lambda>'])])),\n",
       "                ('classifier',\n",
       "                 RandomForestClassifier(max_features=0.7, min_samples_leaf=10,\n",
       "                                        n_estimators=120, n_jobs=-1,\n",
       "                                        oob_score=True))])"
      ]
     },
     "execution_count": 74,
     "metadata": {},
     "output_type": "execute_result"
    }
   ],
   "source": [
    "Logistic_clf.fit(X_train, y_train)\n",
    "MultinomialNB_clf.fit(X_train, y_train)\n",
    "RandomForest_clf.fit(X_train, y_train)"
   ]
  },
  {
   "cell_type": "markdown",
   "metadata": {},
   "source": [
    "Now to check the results we will check it on  the validation set and find out the prediction with confusion matrix\n",
    "\n",
    "is it making you curious ???"
   ]
  },
  {
   "cell_type": "code",
   "execution_count": 75,
   "metadata": {},
   "outputs": [],
   "source": [
    "def results(name: str, model: BaseEstimator) -> None:\n",
    "    '''\n",
    "    Custom function to check model performance on validation set\n",
    "    '''\n",
    "    preds = model.predict(X_val)\n",
    "\n",
    "    print(name + \" score: %.3f\" % model.score(X_val, y_val))\n",
    "    print(classification_report(y_val, preds))\n",
    "    labels = ['Male', 'Female']\n",
    "\n",
    "    conf_matrix = confusion_matrix(y_val, preds)\n",
    "    plt.figure(figsize= (10,6))\n",
    "    sns.heatmap(conf_matrix, xticklabels=labels, yticklabels=labels, annot=True, fmt=\"d\", cmap='Blues')\n",
    "    plt.title(\"Confusion Matrix for \" + name)\n",
    "    plt.ylabel('True Class')\n",
    "    plt.xlabel('Predicted Class')"
   ]
  },
  {
   "cell_type": "markdown",
   "metadata": {},
   "source": [
    "we are talking about **Logistic regression** from a long time what is it actually?? \n",
    "\n",
    "Did that strike your mind???\n",
    "\n",
    "Ok let us know it now!!\n",
    "\n",
    "Logistic regression is a classification algorithm that can predict a binary outcome based on a set of independent variables\n",
    "\n",
    "Ok, so what does this mean? A binary outcome is one where there are only two possible scenarios—either the event happens (1) or it does not happen (0)."
   ]
  },
  {
   "cell_type": "markdown",
   "metadata": {},
   "source": [
    "Now let us see the results for Logistic regression\n",
    "\n",
    "Curious??"
   ]
  },
  {
   "cell_type": "code",
   "execution_count": 76,
   "metadata": {},
   "outputs": [
    {
     "name": "stdout",
     "output_type": "stream",
     "text": [
      "Logistic Regression score: 0.714\n",
      "              precision    recall  f1-score   support\n",
      "\n",
      "           0       0.73      0.93      0.82       401\n",
      "           1       0.64      0.26      0.37       190\n",
      "\n",
      "    accuracy                           0.71       591\n",
      "   macro avg       0.68      0.59      0.59       591\n",
      "weighted avg       0.70      0.71      0.67       591\n",
      "\n"
     ]
    },
    {
     "data": {
      "image/png": "[encoded data removed]",
      "text/plain": [
       "<Figure size 720x432 with 2 Axes>"
      ]
     },
     "metadata": {},
     "output_type": "display_data"
    }
   ],
   "source": [
    "results(\"Logistic Regression\" , Logistic_clf)"
   ]
  },
  {
   "cell_type": "markdown",
   "metadata": {},
   "source": [
    "Now what is **Naive Bayes**??\n",
    "It is probabilistic algorithm typically used for classification problems which is simple, intuitive. For example, spam filters Email app uses are built on Naive Bayes. \n",
    "\n",
    "To predict Y we need to use X. In other words, given a data point X=(x1,x2,…,xn), what the odd of Y being y (That is to predict whether the gender is female we need male data)"
   ]
  },
  {
   "cell_type": "code",
   "execution_count": 77,
   "metadata": {},
   "outputs": [
    {
     "name": "stdout",
     "output_type": "stream",
     "text": [
      "Naive Bayes score: 0.679\n",
      "              precision    recall  f1-score   support\n",
      "\n",
      "           0       0.68      1.00      0.81       401\n",
      "           1       0.00      0.00      0.00       190\n",
      "\n",
      "    accuracy                           0.68       591\n",
      "   macro avg       0.34      0.50      0.40       591\n",
      "weighted avg       0.46      0.68      0.55       591\n",
      "\n"
     ]
    },
    {
     "name": "stderr",
     "output_type": "stream",
     "text": [
      "C:\\Users\\91789\\Anaconda3\\lib\\site-packages\\sklearn\\metrics\\_classification.py:1248: UndefinedMetricWarning: Precision and F-score are ill-defined and being set to 0.0 in labels with no predicted samples. Use `zero_division` parameter to control this behavior.\n",
      "  _warn_prf(average, modifier, msg_start, len(result))\n",
      "C:\\Users\\91789\\Anaconda3\\lib\\site-packages\\sklearn\\metrics\\_classification.py:1248: UndefinedMetricWarning: Precision and F-score are ill-defined and being set to 0.0 in labels with no predicted samples. Use `zero_division` parameter to control this behavior.\n",
      "  _warn_prf(average, modifier, msg_start, len(result))\n",
      "C:\\Users\\91789\\Anaconda3\\lib\\site-packages\\sklearn\\metrics\\_classification.py:1248: UndefinedMetricWarning: Precision and F-score are ill-defined and being set to 0.0 in labels with no predicted samples. Use `zero_division` parameter to control this behavior.\n",
      "  _warn_prf(average, modifier, msg_start, len(result))\n"
     ]
    },
    {
     "data": {
      "image/png": "[encoded data removed]",
      "text/plain": [
       "<Figure size 720x432 with 2 Axes>"
      ]
     },
     "metadata": {},
     "output_type": "display_data"
    }
   ],
   "source": [
    "results(\"Naive Bayes\" , MultinomialNB_clf)"
   ]
  },
  {
   "cell_type": "markdown",
   "metadata": {},
   "source": [
    "What is **Random forest** now??\n",
    "\n",
    "Its a supervised machine learning algorithm  which uses multiple decision trees to grows and create a “forest.” "
   ]
  },
  {
   "cell_type": "code",
   "execution_count": 78,
   "metadata": {},
   "outputs": [
    {
     "name": "stdout",
     "output_type": "stream",
     "text": [
      "Random Forest score: 0.694\n",
      "              precision    recall  f1-score   support\n",
      "\n",
      "           0       0.71      0.92      0.80       401\n",
      "           1       0.56      0.22      0.31       190\n",
      "\n",
      "    accuracy                           0.69       591\n",
      "   macro avg       0.64      0.57      0.56       591\n",
      "weighted avg       0.66      0.69      0.65       591\n",
      "\n"
     ]
    },
    {
     "data": {
      "image/png": "[encoded data removed]",
      "text/plain": [
       "<Figure size 720x432 with 2 Axes>"
      ]
     },
     "metadata": {},
     "output_type": "display_data"
    }
   ],
   "source": [
    "results(\"Random Forest\" , RandomForest_clf)"
   ]
  },
  {
   "cell_type": "markdown",
   "metadata": {},
   "source": [
    "#### Results: "
   ]
  },
  {
   "cell_type": "code",
   "execution_count": 79,
   "metadata": {},
   "outputs": [],
   "source": [
    "dict1={\"Algorithm\":\"Logistic Regression\",\"precision\":\"0.73 \",\"recall\":\" 0.93 \",\"f1-score\":\" 0.82 \",\"Accuracy\":\"0.71\"}\n",
    "dict2={\"Algorithm\":\"Naive Bayes\",\"precision\":\"0.68  \",\"recall\":\" 1.00 \",\"f1-score\":\"0.81 \",\"Accuracy\":\"0.68\"}\n",
    "dict3={\"Algorithm\":\"Random Forest\",\"precision\":\"0.70 \",\"recall\":\" 0.93 \",\"f1-score\":\" 0.80 \",\"Accuracy\":\"0.69\"}\n",
    "summary=pd.DataFrame([dict1,dict2,dict3])\n",
    "# summary.append(dict2,ignore_index=True)\n",
    "# summary.append(dict3,ignore_index=True)"
   ]
  },
  {
   "cell_type": "code",
   "execution_count": 80,
   "metadata": {},
   "outputs": [
    {
     "data": {
      "text/html": [
       "<div>\n",
       "<style scoped>\n",
       "    .dataframe tbody tr th:only-of-type {\n",
       "        vertical-align: middle;\n",
       "    }\n",
       "\n",
       "    .dataframe tbody tr th {\n",
       "        vertical-align: top;\n",
       "    }\n",
       "\n",
       "    .dataframe thead th {\n",
       "        text-align: right;\n",
       "    }\n",
       "</style>\n",
       "<table border=\"1\" class=\"dataframe\">\n",
       "  <thead>\n",
       "    <tr style=\"text-align: right;\">\n",
       "      <th></th>\n",
       "      <th>Accuracy</th>\n",
       "      <th>Algorithm</th>\n",
       "      <th>f1-score</th>\n",
       "      <th>precision</th>\n",
       "      <th>recall</th>\n",
       "    </tr>\n",
       "  </thead>\n",
       "  <tbody>\n",
       "    <tr>\n",
       "      <th>0</th>\n",
       "      <td>0.71</td>\n",
       "      <td>Logistic Regression</td>\n",
       "      <td>0.82</td>\n",
       "      <td>0.73</td>\n",
       "      <td>0.93</td>\n",
       "    </tr>\n",
       "    <tr>\n",
       "      <th>1</th>\n",
       "      <td>0.68</td>\n",
       "      <td>Naive Bayes</td>\n",
       "      <td>0.81</td>\n",
       "      <td>0.68</td>\n",
       "      <td>1.00</td>\n",
       "    </tr>\n",
       "    <tr>\n",
       "      <th>2</th>\n",
       "      <td>0.69</td>\n",
       "      <td>Random Forest</td>\n",
       "      <td>0.80</td>\n",
       "      <td>0.70</td>\n",
       "      <td>0.93</td>\n",
       "    </tr>\n",
       "  </tbody>\n",
       "</table>\n",
       "</div>"
      ],
      "text/plain": [
       "  Accuracy            Algorithm f1-score precision  recall\n",
       "0     0.71  Logistic Regression    0.82      0.73    0.93 \n",
       "1     0.68          Naive Bayes    0.81     0.68     1.00 \n",
       "2     0.69        Random Forest    0.80      0.70    0.93 "
      ]
     },
     "execution_count": 80,
     "metadata": {},
     "output_type": "execute_result"
    }
   ],
   "source": [
    "summary"
   ]
  },
  {
   "cell_type": "markdown",
   "metadata": {},
   "source": [
    "# Summary\n",
    "\n",
    "we were provided with a data set from https://www.kaggle.com/Cornell-University/movie-dialog-corpus and told to identify if the dialogue is from a man or women. So typically its a classification problem. We are given a task to classify between male or female hence its a binary Classification problem. \n",
    "\n",
    "when we explored the data we found a tsv format which is tab separated which had been divided into four table namely \n",
    "- movie_titles_metadata\n",
    "- movie_characters_metadata\n",
    "- movie_lines\n",
    "- movie_conversations\n",
    "\n",
    "we used the jupyter notebook and python language for the purpose of classification.\n",
    "\n",
    "we become the sherlock holmes and started our journey in building an effcient classification model.\n",
    "\n",
    "But as we continued our journey we needed few tools we made used of pandas,numpy,sklearn,seborn which help us with our goal\n",
    "\n",
    "First and foremost we read the data into pandas we observed the data to be messy \n",
    "\n",
    "we started our preprocessing by removing NULL values, bringing it into proper format\n",
    "\n",
    "The scattered data was then merged together using inner join\n",
    "\n",
    "once the preprocessing was done we proceeded further by featuring engineering\n",
    "\n",
    "but we observed that the data must be further cleaned\n",
    "\n",
    "the data was Human language hence we made use of NLP techniques for that\n",
    "\n",
    "we removed stopwords , stemmed and lemmetised the data\n",
    "\n",
    "once that was done we visulised the gender data using box plot which showed us the interquartile range\n",
    "\n",
    "Once the data was cleaned the features were checked and visualised we moved further with our task \n",
    "\n",
    "the task at our hands was to classify between the speakers\n",
    "\n",
    "we build a pipeline to make our work easy and reproduce the result quicker\n",
    "\n",
    "once done with the pipeline we choose three Machine Learning Algorithm to assit us namely\n",
    "\n",
    "- Logistic Regression Classifier\n",
    "- Naive Bayes Classifier\n",
    "- Random Forest Clasifier\n",
    "\n",
    "we achieved the 71 % , 68 % and 69 % accuracy respectively\n",
    "\n",
    "since the F1 score of Logistic Regression Classifier is 0.82 we can confidenly say that Logistic Regression Classifier performed better among the 3 machine learning algorithm in indentifying the male and female artist given a dialogue\n",
    "\n",
    "\n",
    "\n",
    "\n",
    "\n"
   ]
  },
  {
   "cell_type": "code",
   "execution_count": null,
   "metadata": {},
   "outputs": [],
   "source": []
  }
 ],
 "metadata": {
  "kernelspec": {
   "display_name": "Python 3",
   "language": "python",
   "name": "python3"
  },
  "language_info": {
   "codemirror_mode": {
    "name": "ipython",
    "version": 3
   },
   "file_extension": ".py",
   "mimetype": "text/x-python",
   "name": "python",
   "nbconvert_exporter": "python",
   "pygments_lexer": "ipython3",
   "version": "3.6.5"
  }
 },
 "nbformat": 4,
 "nbformat_minor": 2
}
